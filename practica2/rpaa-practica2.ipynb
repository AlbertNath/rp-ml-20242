{
 "cells": [
  {
   "cell_type": "code",
   "execution_count": 1,
   "id": "9340c890",
   "metadata": {
    "execution": {
     "iopub.execute_input": "2024-02-14T19:45:16.281101Z",
     "iopub.status.busy": "2024-02-14T19:45:16.280725Z",
     "iopub.status.idle": "2024-02-14T19:45:31.990408Z",
     "shell.execute_reply": "2024-02-14T19:45:31.989556Z"
    },
    "id": "50CNad4MEsHq",
    "papermill": {
     "duration": 15.720226,
     "end_time": "2024-02-14T19:45:31.993092",
     "exception": false,
     "start_time": "2024-02-14T19:45:16.272866",
     "status": "completed"
    },
    "tags": []
   },
   "outputs": [
    {
     "name": "stderr",
     "output_type": "stream",
     "text": [
      "2024-02-14 19:45:18.135092: E external/local_xla/xla/stream_executor/cuda/cuda_dnn.cc:9261] Unable to register cuDNN factory: Attempting to register factory for plugin cuDNN when one has already been registered\n",
      "2024-02-14 19:45:18.135273: E external/local_xla/xla/stream_executor/cuda/cuda_fft.cc:607] Unable to register cuFFT factory: Attempting to register factory for plugin cuFFT when one has already been registered\n",
      "2024-02-14 19:45:18.258640: E external/local_xla/xla/stream_executor/cuda/cuda_blas.cc:1515] Unable to register cuBLAS factory: Attempting to register factory for plugin cuBLAS when one has already been registered\n"
     ]
    },
    {
     "name": "stdout",
     "output_type": "stream",
     "text": [
      "Downloading data from https://storage.googleapis.com/tensorflow/tf-keras-datasets/mnist.npz\n",
      "11490434/11490434 [==============================] - 1s 0us/step\n",
      "(10842, 28, 28)\n",
      "(1784, 28, 28)\n"
     ]
    }
   ],
   "source": [
    "from keras.datasets import mnist\n",
    "import numpy as np\n",
    "\n",
    "(x_train, y_train), (x_test, y_test) = mnist.load_data()\n",
    "\n",
    "# Se obtiene una muestra con igual número de: cincos vs no cincos\n",
    "# para el conjunto de entrenamiento y el de test\n",
    "idx_y_train_5 = np.where(y_train == 5)[0]\n",
    "idx_y_train_n5 = np.where(y_train != 5)[0]\n",
    "idx_y_train_n5 = np.random.choice(idx_y_train_n5, idx_y_train_5.shape[0], replace=False)\n",
    "\n",
    "idx_y_train = np.concatenate([idx_y_train_5, idx_y_train_n5])\n",
    "np.random.shuffle(idx_y_train)\n",
    "\n",
    "x_train = x_train[idx_y_train]\n",
    "y_train = y_train[idx_y_train]\n",
    "print(x_train.shape)\n",
    "\n",
    "idx_y_test_5 = np.where(y_test == 5)[0]\n",
    "idx_y_test_n5 = np.where(y_test != 5)[0]\n",
    "idx_y_test_n5 = np.random.choice(idx_y_test_n5, idx_y_test_5.shape[0], replace=False)\n",
    "\n",
    "idx_y_test = np.concatenate([idx_y_test_5, idx_y_test_n5])\n",
    "np.random.shuffle(idx_y_test)\n",
    "\n",
    "x_test = x_test[idx_y_test]\n",
    "y_test = y_test[idx_y_test]\n",
    "print(x_test.shape)\n",
    "\n",
    "y_train_binary = (y_train == 5).astype(int)\n",
    "y_test_binary = (y_test == 5).astype(int)"
   ]
  },
  {
   "cell_type": "code",
   "execution_count": 2,
   "id": "7ddd68d9",
   "metadata": {
    "execution": {
     "iopub.execute_input": "2024-02-14T19:45:32.018513Z",
     "iopub.status.busy": "2024-02-14T19:45:32.017340Z",
     "iopub.status.idle": "2024-02-14T19:45:32.025536Z",
     "shell.execute_reply": "2024-02-14T19:45:32.024300Z"
    },
    "papermill": {
     "duration": 0.024172,
     "end_time": "2024-02-14T19:45:32.027885",
     "exception": false,
     "start_time": "2024-02-14T19:45:32.003713",
     "status": "completed"
    },
    "tags": []
   },
   "outputs": [],
   "source": [
    "from keras.models import Sequential\n",
    "from keras.layers import Flatten, Dense\n",
    "from keras.metrics import F1Score\n",
    "\n",
    "def build_model(epochs, batch_size, val_split):\n",
    "    model = Sequential([\n",
    "    Flatten(input_shape=(28, 28)),\n",
    "    Dense(1)\n",
    "    ])\n",
    "    \n",
    "    print(model.summary())\n",
    "    model.compile(loss='binary_crossentropy', metrics=['accuracy'])\n",
    "    model.fit(x_train, y_train_binary, epochs=epochs, \n",
    "              batch_size=batch_size, validation_split=val_split)\n",
    "    \n",
    "    return model"
   ]
  },
  {
   "cell_type": "markdown",
   "id": "ea4073c4",
   "metadata": {
    "papermill": {
     "duration": 0.007698,
     "end_time": "2024-02-14T19:45:32.043853",
     "exception": false,
     "start_time": "2024-02-14T19:45:32.036155",
     "status": "completed"
    },
    "tags": []
   },
   "source": [
    "# 1\n",
    "`epochs`           = 4\n",
    "\n",
    "`batch size`       = 2000\n",
    "\n",
    "`validation split` = 0.9"
   ]
  },
  {
   "cell_type": "code",
   "execution_count": 3,
   "id": "fc13bd73",
   "metadata": {
    "execution": {
     "iopub.execute_input": "2024-02-14T19:45:32.062024Z",
     "iopub.status.busy": "2024-02-14T19:45:32.061329Z",
     "iopub.status.idle": "2024-02-14T19:45:33.442979Z",
     "shell.execute_reply": "2024-02-14T19:45:33.441797Z"
    },
    "id": "3aBy0CQvHcT9",
    "papermill": {
     "duration": 1.394253,
     "end_time": "2024-02-14T19:45:33.446077",
     "exception": false,
     "start_time": "2024-02-14T19:45:32.051824",
     "status": "completed"
    },
    "tags": []
   },
   "outputs": [
    {
     "name": "stdout",
     "output_type": "stream",
     "text": [
      "Model: \"sequential\"\n",
      "_________________________________________________________________\n",
      " Layer (type)                Output Shape              Param #   \n",
      "=================================================================\n",
      " flatten (Flatten)           (None, 784)               0         \n",
      "                                                                 \n",
      " dense (Dense)               (None, 1)                 785       \n",
      "                                                                 \n",
      "=================================================================\n",
      "Total params: 785 (3.07 KB)\n",
      "Trainable params: 785 (3.07 KB)\n",
      "Non-trainable params: 0 (0.00 Byte)\n",
      "_________________________________________________________________\n",
      "None\n",
      "Epoch 1/4\n",
      "1/1 [==============================] - 1s 826ms/step - loss: 7.2305 - accuracy: 0.5304 - val_loss: 7.6125 - val_accuracy: 0.5058\n",
      "Epoch 2/4\n",
      "1/1 [==============================] - 0s 47ms/step - loss: 7.3957 - accuracy: 0.5203 - val_loss: 7.5593 - val_accuracy: 0.5084\n",
      "Epoch 3/4\n",
      "1/1 [==============================] - 0s 49ms/step - loss: 7.3942 - accuracy: 0.5203 - val_loss: 7.5593 - val_accuracy: 0.5084\n",
      "Epoch 4/4\n",
      "1/1 [==============================] - 0s 48ms/step - loss: 7.3942 - accuracy: 0.5203 - val_loss: 7.5593 - val_accuracy: 0.5084\n"
     ]
    }
   ],
   "source": [
    "model_0 = build_model(4, 2000, 0.9)"
   ]
  },
  {
   "cell_type": "code",
   "execution_count": 4,
   "id": "9bd02667",
   "metadata": {
    "execution": {
     "iopub.execute_input": "2024-02-14T19:45:33.469355Z",
     "iopub.status.busy": "2024-02-14T19:45:33.468959Z",
     "iopub.status.idle": "2024-02-14T19:45:34.749980Z",
     "shell.execute_reply": "2024-02-14T19:45:34.748744Z"
    },
    "id": "Bcb43x96H6xD",
    "papermill": {
     "duration": 1.295619,
     "end_time": "2024-02-14T19:45:34.752625",
     "exception": false,
     "start_time": "2024-02-14T19:45:33.457006",
     "status": "completed"
    },
    "tags": []
   },
   "outputs": [
    {
     "name": "stdout",
     "output_type": "stream",
     "text": [
      "56/56 [==============================] - 0s 1ms/step\n",
      "Matriz de confusión:\n",
      "[[836  56]\n",
      " [824  68]]\n",
      "Accuracy: 0.5067264573991032\n",
      "Precision_1: 0.5483870967741935\n",
      "Recall_1: 0.07623318385650224\n",
      "F1-score_1: 0.13385826771653545\n",
      "Precision_0: 0.5036144578313253\n",
      "Recall_0: 0.9372197309417041\n",
      "F1-score_0: 0.6551724137931034\n"
     ]
    }
   ],
   "source": [
    "from sklearn.metrics import confusion_matrix, accuracy_score, \\\n",
    "precision_score, recall_score,f1_score\n",
    "\n",
    "y_pred_0 = (model_0.predict(x_test) >= 0.5).astype(int)[:,0]\n",
    "conf_matrix = confusion_matrix(y_test_binary, y_pred_0)\n",
    "print(\"Matriz de confusión:\")\n",
    "print(conf_matrix)\n",
    "\n",
    "acc = accuracy_score(y_test_binary, y_pred_0)\n",
    "print(\"Accuracy:\", acc)\n",
    "precision = precision_score(y_test_binary, y_pred_0)\n",
    "print(\"Precision_1:\", precision)\n",
    "recall = recall_score(y_test_binary, y_pred_0)\n",
    "print(\"Recall_1:\", recall)\n",
    "f1_s = f1_score(y_test_binary, y_pred_0)\n",
    "print(\"F1-score_1:\", f1_s)\n",
    "\n",
    "\n",
    "precision_0 = precision_score(y_test_binary, y_pred_0, pos_label=0)\n",
    "print(\"Precision_0:\", precision_0)\n",
    "recall_0 = recall_score(y_test_binary, y_pred_0, pos_label=0)\n",
    "print(\"Recall_0:\", recall_0)\n",
    "f1_s_0 = f1_score(y_test_binary, y_pred_0, pos_label=0)\n",
    "print(\"F1-score_0:\", f1_s_0)"
   ]
  },
  {
   "cell_type": "markdown",
   "id": "363d3690",
   "metadata": {
    "papermill": {
     "duration": 0.010623,
     "end_time": "2024-02-14T19:45:34.774743",
     "exception": false,
     "start_time": "2024-02-14T19:45:34.764120",
     "status": "completed"
    },
    "tags": []
   },
   "source": [
    "# 2\n",
    "`epochs`           = 20\n",
    "\n",
    "`batch size`       = 2000\n",
    "\n",
    "`validation split` = 0.9"
   ]
  },
  {
   "cell_type": "code",
   "execution_count": 5,
   "id": "a19efb96",
   "metadata": {
    "execution": {
     "iopub.execute_input": "2024-02-14T19:45:34.798794Z",
     "iopub.status.busy": "2024-02-14T19:45:34.797918Z",
     "iopub.status.idle": "2024-02-14T19:45:36.548535Z",
     "shell.execute_reply": "2024-02-14T19:45:36.547540Z"
    },
    "papermill": {
     "duration": 1.765669,
     "end_time": "2024-02-14T19:45:36.551119",
     "exception": false,
     "start_time": "2024-02-14T19:45:34.785450",
     "status": "completed"
    },
    "tags": []
   },
   "outputs": [
    {
     "name": "stdout",
     "output_type": "stream",
     "text": [
      "Model: \"sequential_1\"\n",
      "_________________________________________________________________\n",
      " Layer (type)                Output Shape              Param #   \n",
      "=================================================================\n",
      " flatten_1 (Flatten)         (None, 784)               0         \n",
      "                                                                 \n",
      " dense_1 (Dense)             (None, 1)                 785       \n",
      "                                                                 \n",
      "=================================================================\n",
      "Total params: 785 (3.07 KB)\n",
      "Trainable params: 785 (3.07 KB)\n",
      "Non-trainable params: 0 (0.00 Byte)\n",
      "_________________________________________________________________\n",
      "None\n",
      "Epoch 1/20\n",
      "1/1 [==============================] - 1s 666ms/step - loss: 7.5533 - accuracy: 0.5101 - val_loss: 7.6176 - val_accuracy: 0.5053\n",
      "Epoch 2/20\n",
      "1/1 [==============================] - 0s 46ms/step - loss: 7.3972 - accuracy: 0.5203 - val_loss: 7.6176 - val_accuracy: 0.5053\n",
      "Epoch 3/20\n",
      "1/1 [==============================] - 0s 46ms/step - loss: 7.3972 - accuracy: 0.5203 - val_loss: 7.6176 - val_accuracy: 0.5053\n",
      "Epoch 4/20\n",
      "1/1 [==============================] - 0s 53ms/step - loss: 7.3972 - accuracy: 0.5203 - val_loss: 7.6176 - val_accuracy: 0.5053\n",
      "Epoch 5/20\n",
      "1/1 [==============================] - 0s 50ms/step - loss: 7.3972 - accuracy: 0.5203 - val_loss: 7.6176 - val_accuracy: 0.5053\n",
      "Epoch 6/20\n",
      "1/1 [==============================] - 0s 51ms/step - loss: 7.3972 - accuracy: 0.5203 - val_loss: 7.6176 - val_accuracy: 0.5053\n",
      "Epoch 7/20\n",
      "1/1 [==============================] - 0s 46ms/step - loss: 7.3972 - accuracy: 0.5203 - val_loss: 7.6176 - val_accuracy: 0.5053\n",
      "Epoch 8/20\n",
      "1/1 [==============================] - 0s 46ms/step - loss: 7.3972 - accuracy: 0.5203 - val_loss: 7.6176 - val_accuracy: 0.5053\n",
      "Epoch 9/20\n",
      "1/1 [==============================] - 0s 46ms/step - loss: 7.3972 - accuracy: 0.5203 - val_loss: 7.6176 - val_accuracy: 0.5053\n",
      "Epoch 10/20\n",
      "1/1 [==============================] - 0s 45ms/step - loss: 7.3972 - accuracy: 0.5203 - val_loss: 7.6176 - val_accuracy: 0.5053\n",
      "Epoch 11/20\n",
      "1/1 [==============================] - 0s 45ms/step - loss: 7.3972 - accuracy: 0.5203 - val_loss: 7.6176 - val_accuracy: 0.5053\n",
      "Epoch 12/20\n",
      "1/1 [==============================] - 0s 49ms/step - loss: 7.3972 - accuracy: 0.5203 - val_loss: 7.6176 - val_accuracy: 0.5053\n",
      "Epoch 13/20\n",
      "1/1 [==============================] - 0s 47ms/step - loss: 7.3972 - accuracy: 0.5203 - val_loss: 7.6176 - val_accuracy: 0.5053\n",
      "Epoch 14/20\n",
      "1/1 [==============================] - 0s 49ms/step - loss: 7.3972 - accuracy: 0.5203 - val_loss: 7.6176 - val_accuracy: 0.5053\n",
      "Epoch 15/20\n",
      "1/1 [==============================] - 0s 46ms/step - loss: 7.3972 - accuracy: 0.5203 - val_loss: 7.6176 - val_accuracy: 0.5053\n",
      "Epoch 16/20\n",
      "1/1 [==============================] - 0s 45ms/step - loss: 7.3972 - accuracy: 0.5203 - val_loss: 7.6176 - val_accuracy: 0.5053\n",
      "Epoch 17/20\n",
      "1/1 [==============================] - 0s 51ms/step - loss: 7.3972 - accuracy: 0.5203 - val_loss: 7.6176 - val_accuracy: 0.5053\n",
      "Epoch 18/20\n",
      "1/1 [==============================] - 0s 44ms/step - loss: 7.3972 - accuracy: 0.5203 - val_loss: 7.6176 - val_accuracy: 0.5053\n",
      "Epoch 19/20\n",
      "1/1 [==============================] - 0s 46ms/step - loss: 7.3972 - accuracy: 0.5203 - val_loss: 7.6176 - val_accuracy: 0.5053\n",
      "Epoch 20/20\n",
      "1/1 [==============================] - 0s 49ms/step - loss: 7.3972 - accuracy: 0.5203 - val_loss: 7.6176 - val_accuracy: 0.5053\n"
     ]
    }
   ],
   "source": [
    "model_1 = build_model(20, 2000, 0.9)"
   ]
  },
  {
   "cell_type": "code",
   "execution_count": 6,
   "id": "15f95798",
   "metadata": {
    "execution": {
     "iopub.execute_input": "2024-02-14T19:45:36.587718Z",
     "iopub.status.busy": "2024-02-14T19:45:36.587251Z",
     "iopub.status.idle": "2024-02-14T19:45:36.805934Z",
     "shell.execute_reply": "2024-02-14T19:45:36.804520Z"
    },
    "papermill": {
     "duration": 0.23962,
     "end_time": "2024-02-14T19:45:36.808198",
     "exception": false,
     "start_time": "2024-02-14T19:45:36.568578",
     "status": "completed"
    },
    "tags": []
   },
   "outputs": [
    {
     "name": "stdout",
     "output_type": "stream",
     "text": [
      "56/56 [==============================] - 0s 1ms/step\n",
      "Matriz de confusión:\n",
      "[[865  27]\n",
      " [845  47]]\n",
      "Accuracy: 0.5112107623318386\n",
      "Precision_1: 0.6351351351351351\n",
      "Recall_1: 0.052690582959641255\n",
      "F1-score_1: 0.09730848861283645\n",
      "Precision_0: 0.5058479532163743\n",
      "Recall_0: 0.9697309417040358\n",
      "F1-score_0: 0.6648731744811683\n"
     ]
    }
   ],
   "source": [
    "y_pred_1 = (model_1.predict(x_test) >= 0.5).astype(int)[:,0]\n",
    "conf_matrix = confusion_matrix(y_test_binary, y_pred_1)\n",
    "print(\"Matriz de confusión:\")\n",
    "print(conf_matrix)\n",
    "\n",
    "acc = accuracy_score(y_test_binary, y_pred_1)\n",
    "print(\"Accuracy:\", acc)\n",
    "precision = precision_score(y_test_binary, y_pred_1)\n",
    "print(\"Precision_1:\", precision)\n",
    "recall = recall_score(y_test_binary, y_pred_1)\n",
    "print(\"Recall_1:\", recall)\n",
    "f1_s = f1_score(y_test_binary, y_pred_1)\n",
    "print(\"F1-score_1:\", f1_s)\n",
    "\n",
    "\n",
    "precision_0 = precision_score(y_test_binary, y_pred_1, pos_label=0)\n",
    "print(\"Precision_0:\", precision_0)\n",
    "recall_0 = recall_score(y_test_binary, y_pred_1, pos_label=0)\n",
    "print(\"Recall_0:\", recall_0)\n",
    "f1_s_0 = f1_score(y_test_binary, y_pred_1, pos_label=0)\n",
    "print(\"F1-score_0:\", f1_s_0)"
   ]
  },
  {
   "cell_type": "markdown",
   "id": "c0fcfd01",
   "metadata": {
    "execution": {
     "iopub.execute_input": "2024-02-14T01:59:38.416813Z",
     "iopub.status.busy": "2024-02-14T01:59:38.416400Z",
     "iopub.status.idle": "2024-02-14T01:59:38.423415Z",
     "shell.execute_reply": "2024-02-14T01:59:38.422037Z",
     "shell.execute_reply.started": "2024-02-14T01:59:38.416783Z"
    },
    "papermill": {
     "duration": 0.017578,
     "end_time": "2024-02-14T19:45:36.844744",
     "exception": false,
     "start_time": "2024-02-14T19:45:36.827166",
     "status": "completed"
    },
    "tags": []
   },
   "source": [
    "# 3\n",
    "`epochs`           = 4\n",
    "\n",
    "`batch size`       = 2\n",
    "\n",
    "`validation split` = 0.9"
   ]
  },
  {
   "cell_type": "code",
   "execution_count": 7,
   "id": "0dc06252",
   "metadata": {
    "execution": {
     "iopub.execute_input": "2024-02-14T19:45:36.881889Z",
     "iopub.status.busy": "2024-02-14T19:45:36.881469Z",
     "iopub.status.idle": "2024-02-14T19:46:01.533677Z",
     "shell.execute_reply": "2024-02-14T19:46:01.532640Z"
    },
    "papermill": {
     "duration": 24.673735,
     "end_time": "2024-02-14T19:46:01.536266",
     "exception": false,
     "start_time": "2024-02-14T19:45:36.862531",
     "status": "completed"
    },
    "tags": []
   },
   "outputs": [
    {
     "name": "stdout",
     "output_type": "stream",
     "text": [
      "Model: \"sequential_2\"\n",
      "_________________________________________________________________\n",
      " Layer (type)                Output Shape              Param #   \n",
      "=================================================================\n",
      " flatten_2 (Flatten)         (None, 784)               0         \n",
      "                                                                 \n",
      " dense_2 (Dense)             (None, 1)                 785       \n",
      "                                                                 \n",
      "=================================================================\n",
      "Total params: 785 (3.07 KB)\n",
      "Trainable params: 785 (3.07 KB)\n",
      "Non-trainable params: 0 (0.00 Byte)\n",
      "_________________________________________________________________\n",
      "None\n",
      "Epoch 1/4\n",
      "542/542 [==============================] - 6s 11ms/step - loss: 8.0855 - accuracy: 0.4696 - val_loss: 7.5715 - val_accuracy: 0.5029\n",
      "Epoch 2/4\n",
      "542/542 [==============================] - 6s 11ms/step - loss: 7.7254 - accuracy: 0.4935 - val_loss: 7.5731 - val_accuracy: 0.5033\n",
      "Epoch 3/4\n",
      "542/542 [==============================] - 6s 11ms/step - loss: 7.7234 - accuracy: 0.4935 - val_loss: 7.5879 - val_accuracy: 0.5024\n",
      "Epoch 4/4\n",
      "542/542 [==============================] - 6s 11ms/step - loss: 7.7808 - accuracy: 0.4889 - val_loss: 7.5647 - val_accuracy: 0.5039\n"
     ]
    }
   ],
   "source": [
    "model_2 = build_model(4, 2, 0.9)"
   ]
  },
  {
   "cell_type": "code",
   "execution_count": 8,
   "id": "a81dbd72",
   "metadata": {
    "execution": {
     "iopub.execute_input": "2024-02-14T19:46:01.589187Z",
     "iopub.status.busy": "2024-02-14T19:46:01.588766Z",
     "iopub.status.idle": "2024-02-14T19:46:01.856022Z",
     "shell.execute_reply": "2024-02-14T19:46:01.853213Z"
    },
    "papermill": {
     "duration": 0.297581,
     "end_time": "2024-02-14T19:46:01.859475",
     "exception": false,
     "start_time": "2024-02-14T19:46:01.561894",
     "status": "completed"
    },
    "tags": []
   },
   "outputs": [
    {
     "name": "stdout",
     "output_type": "stream",
     "text": [
      "56/56 [==============================] - 0s 1ms/step\n",
      "Matriz de confusión:\n",
      "[[ 13 879]\n",
      " [  5 887]]\n",
      "Accuracy: 0.5044843049327354\n",
      "Precision_1: 0.5022650056625142\n",
      "Recall_1: 0.9943946188340808\n",
      "F1-score_1: 0.6674191121143717\n",
      "Precision_0: 0.7222222222222222\n",
      "Recall_0: 0.014573991031390135\n",
      "F1-score_0: 0.02857142857142857\n"
     ]
    }
   ],
   "source": [
    "y_pred_2 = (model_2.predict(x_test) >= 0.5).astype(int)[:,0]\n",
    "conf_matrix = confusion_matrix(y_test_binary, y_pred_2)\n",
    "print(\"Matriz de confusión:\")\n",
    "print(conf_matrix)\n",
    "\n",
    "acc = accuracy_score(y_test_binary, y_pred_2)\n",
    "print(\"Accuracy:\", acc)\n",
    "precision = precision_score(y_test_binary, y_pred_2)\n",
    "print(\"Precision_1:\", precision)\n",
    "recall = recall_score(y_test_binary, y_pred_2)\n",
    "print(\"Recall_1:\", recall)\n",
    "f1_s = f1_score(y_test_binary, y_pred_2)\n",
    "print(\"F1-score_1:\", f1_s)\n",
    "\n",
    "\n",
    "precision_0 = precision_score(y_test_binary, y_pred_2, pos_label=0)\n",
    "print(\"Precision_0:\", precision_0)\n",
    "recall_0 = recall_score(y_test_binary, y_pred_2, pos_label=0)\n",
    "print(\"Recall_0:\", recall_0)\n",
    "f1_s_0 = f1_score(y_test_binary, y_pred_2, pos_label=0)\n",
    "print(\"F1-score_0:\", f1_s_0)"
   ]
  },
  {
   "cell_type": "markdown",
   "id": "f7f3003b",
   "metadata": {
    "papermill": {
     "duration": 0.026279,
     "end_time": "2024-02-14T19:46:01.912488",
     "exception": false,
     "start_time": "2024-02-14T19:46:01.886209",
     "status": "completed"
    },
    "tags": []
   },
   "source": [
    "# 4\n",
    "`epochs`           = 4\n",
    "\n",
    "`batch size`       = 2000\n",
    "\n",
    "`validation split` = 0.01"
   ]
  },
  {
   "cell_type": "code",
   "execution_count": 9,
   "id": "55bdb518",
   "metadata": {
    "execution": {
     "iopub.execute_input": "2024-02-14T19:46:01.981719Z",
     "iopub.status.busy": "2024-02-14T19:46:01.981067Z",
     "iopub.status.idle": "2024-02-14T19:46:02.923604Z",
     "shell.execute_reply": "2024-02-14T19:46:02.922580Z"
    },
    "papermill": {
     "duration": 0.9848,
     "end_time": "2024-02-14T19:46:02.925975",
     "exception": false,
     "start_time": "2024-02-14T19:46:01.941175",
     "status": "completed"
    },
    "tags": []
   },
   "outputs": [
    {
     "name": "stdout",
     "output_type": "stream",
     "text": [
      "Model: \"sequential_3\"\n",
      "_________________________________________________________________\n",
      " Layer (type)                Output Shape              Param #   \n",
      "=================================================================\n",
      " flatten_3 (Flatten)         (None, 784)               0         \n",
      "                                                                 \n",
      " dense_3 (Dense)             (None, 1)                 785       \n",
      "                                                                 \n",
      "=================================================================\n",
      "Total params: 785 (3.07 KB)\n",
      "Trainable params: 785 (3.07 KB)\n",
      "Non-trainable params: 0 (0.00 Byte)\n",
      "_________________________________________________________________\n",
      "None\n",
      "Epoch 1/4\n",
      "6/6 [==============================] - 1s 41ms/step - loss: 6.9154 - accuracy: 0.5487 - val_loss: 6.7491 - val_accuracy: 0.5596\n",
      "Epoch 2/4\n",
      "6/6 [==============================] - 0s 9ms/step - loss: 6.1173 - accuracy: 0.6001 - val_loss: 6.4669 - val_accuracy: 0.5780\n",
      "Epoch 3/4\n",
      "6/6 [==============================] - 0s 9ms/step - loss: 5.8217 - accuracy: 0.6187 - val_loss: 6.1766 - val_accuracy: 0.5963\n",
      "Epoch 4/4\n",
      "6/6 [==============================] - 0s 9ms/step - loss: 5.4823 - accuracy: 0.6401 - val_loss: 6.0319 - val_accuracy: 0.6055\n"
     ]
    }
   ],
   "source": [
    "model_3 = build_model(4, 2000, 0.01)"
   ]
  },
  {
   "cell_type": "code",
   "execution_count": 10,
   "id": "46f4c1ad",
   "metadata": {
    "execution": {
     "iopub.execute_input": "2024-02-14T19:46:02.985929Z",
     "iopub.status.busy": "2024-02-14T19:46:02.985481Z",
     "iopub.status.idle": "2024-02-14T19:46:03.206876Z",
     "shell.execute_reply": "2024-02-14T19:46:03.205557Z"
    },
    "papermill": {
     "duration": 0.254709,
     "end_time": "2024-02-14T19:46:03.209367",
     "exception": false,
     "start_time": "2024-02-14T19:46:02.954658",
     "status": "completed"
    },
    "tags": []
   },
   "outputs": [
    {
     "name": "stdout",
     "output_type": "stream",
     "text": [
      "56/56 [==============================] - 0s 1ms/step\n",
      "Matriz de confusión:\n",
      "[[430 462]\n",
      " [161 731]]\n",
      "Accuracy: 0.6507847533632287\n",
      "Precision_1: 0.6127409891031014\n",
      "Recall_1: 0.8195067264573991\n",
      "F1-score_1: 0.701199040767386\n",
      "Precision_0: 0.727580372250423\n",
      "Recall_0: 0.4820627802690583\n",
      "F1-score_0: 0.5799055967633177\n"
     ]
    }
   ],
   "source": [
    "y_pred_3 = (model_3.predict(x_test) >= 0.5).astype(int)[:,0]\n",
    "conf_matrix = confusion_matrix(y_test_binary, y_pred_3)\n",
    "print(\"Matriz de confusión:\")\n",
    "print(conf_matrix)\n",
    "\n",
    "acc = accuracy_score(y_test_binary, y_pred_3)\n",
    "print(\"Accuracy:\", acc)\n",
    "precision = precision_score(y_test_binary, y_pred_3)\n",
    "print(\"Precision_1:\", precision)\n",
    "recall = recall_score(y_test_binary, y_pred_3)\n",
    "print(\"Recall_1:\", recall)\n",
    "f1_s = f1_score(y_test_binary, y_pred_3)\n",
    "print(\"F1-score_1:\", f1_s)\n",
    "\n",
    "\n",
    "precision_0 = precision_score(y_test_binary, y_pred_3, pos_label=0)\n",
    "print(\"Precision_0:\", precision_0)\n",
    "recall_0 = recall_score(y_test_binary, y_pred_3, pos_label=0)\n",
    "print(\"Recall_0:\", recall_0)\n",
    "f1_s_0 = f1_score(y_test_binary, y_pred_3, pos_label=0)\n",
    "print(\"F1-score_0:\", f1_s_0)"
   ]
  },
  {
   "cell_type": "markdown",
   "id": "6d1031ea",
   "metadata": {
    "papermill": {
     "duration": 0.03006,
     "end_time": "2024-02-14T19:46:03.268969",
     "exception": false,
     "start_time": "2024-02-14T19:46:03.238909",
     "status": "completed"
    },
    "tags": []
   },
   "source": [
    "# 5 "
   ]
  },
  {
   "cell_type": "code",
   "execution_count": 11,
   "id": "2f2673dd",
   "metadata": {
    "execution": {
     "iopub.execute_input": "2024-02-14T19:46:03.330811Z",
     "iopub.status.busy": "2024-02-14T19:46:03.329556Z",
     "iopub.status.idle": "2024-02-14T19:46:14.118154Z",
     "shell.execute_reply": "2024-02-14T19:46:14.116867Z"
    },
    "papermill": {
     "duration": 10.82239,
     "end_time": "2024-02-14T19:46:14.121004",
     "exception": false,
     "start_time": "2024-02-14T19:46:03.298614",
     "status": "completed"
    },
    "tags": []
   },
   "outputs": [
    {
     "name": "stdout",
     "output_type": "stream",
     "text": [
      "Model: \"sequential_4\"\n",
      "_________________________________________________________________\n",
      " Layer (type)                Output Shape              Param #   \n",
      "=================================================================\n",
      " flatten_4 (Flatten)         (None, 784)               0         \n",
      "                                                                 \n",
      " dense_4 (Dense)             (None, 1)                 785       \n",
      "                                                                 \n",
      "=================================================================\n",
      "Total params: 785 (3.07 KB)\n",
      "Trainable params: 785 (3.07 KB)\n",
      "Non-trainable params: 0 (0.00 Byte)\n",
      "_________________________________________________________________\n",
      "None\n",
      "Epoch 1/25\n",
      "136/136 [==============================] - 1s 3ms/step - loss: 8.0499 - accuracy: 0.4737 - val_loss: 7.7618 - val_accuracy: 0.4938\n",
      "Epoch 2/25\n",
      "136/136 [==============================] - 0s 2ms/step - loss: 6.7391 - accuracy: 0.5608 - val_loss: 6.9185 - val_accuracy: 0.5482\n",
      "Epoch 3/25\n",
      "136/136 [==============================] - 0s 2ms/step - loss: 5.7219 - accuracy: 0.6255 - val_loss: 5.3408 - val_accuracy: 0.6501\n",
      "Epoch 4/25\n",
      "136/136 [==============================] - 0s 2ms/step - loss: 4.7544 - accuracy: 0.6887 - val_loss: 4.5251 - val_accuracy: 0.7031\n",
      "Epoch 5/25\n",
      "136/136 [==============================] - 0s 2ms/step - loss: 3.8777 - accuracy: 0.7460 - val_loss: 3.7554 - val_accuracy: 0.7538\n",
      "Epoch 6/25\n",
      "136/136 [==============================] - 0s 2ms/step - loss: 3.6644 - accuracy: 0.7598 - val_loss: 3.7743 - val_accuracy: 0.7520\n",
      "Epoch 7/25\n",
      "136/136 [==============================] - 0s 2ms/step - loss: 3.2636 - accuracy: 0.7869 - val_loss: 3.1445 - val_accuracy: 0.7944\n",
      "Epoch 8/25\n",
      "136/136 [==============================] - 0s 2ms/step - loss: 2.9092 - accuracy: 0.8094 - val_loss: 2.9947 - val_accuracy: 0.8031\n",
      "Epoch 9/25\n",
      "136/136 [==============================] - 0s 2ms/step - loss: 2.9678 - accuracy: 0.8058 - val_loss: 3.5834 - val_accuracy: 0.7672\n",
      "Epoch 10/25\n",
      "136/136 [==============================] - 0s 2ms/step - loss: 2.8231 - accuracy: 0.8152 - val_loss: 2.8516 - val_accuracy: 0.8133\n",
      "Epoch 11/25\n",
      "136/136 [==============================] - 0s 2ms/step - loss: 2.7327 - accuracy: 0.8212 - val_loss: 2.7875 - val_accuracy: 0.8165\n",
      "Epoch 12/25\n",
      "136/136 [==============================] - 0s 2ms/step - loss: 2.5038 - accuracy: 0.8357 - val_loss: 2.5302 - val_accuracy: 0.8349\n",
      "Epoch 13/25\n",
      "136/136 [==============================] - 0s 2ms/step - loss: 2.5244 - accuracy: 0.8343 - val_loss: 2.5558 - val_accuracy: 0.8326\n",
      "Epoch 14/25\n",
      "136/136 [==============================] - 0s 2ms/step - loss: 2.5519 - accuracy: 0.8334 - val_loss: 2.3950 - val_accuracy: 0.8437\n",
      "Epoch 15/25\n",
      "136/136 [==============================] - 0s 2ms/step - loss: 2.1679 - accuracy: 0.8581 - val_loss: 2.3029 - val_accuracy: 0.8488\n",
      "Epoch 16/25\n",
      "136/136 [==============================] - 0s 2ms/step - loss: 2.2709 - accuracy: 0.8510 - val_loss: 2.1533 - val_accuracy: 0.8598\n",
      "Epoch 17/25\n",
      "136/136 [==============================] - 0s 2ms/step - loss: 2.1058 - accuracy: 0.8624 - val_loss: 2.1924 - val_accuracy: 0.8566\n",
      "Epoch 18/25\n",
      "136/136 [==============================] - 0s 2ms/step - loss: 2.3671 - accuracy: 0.8457 - val_loss: 2.1906 - val_accuracy: 0.8566\n",
      "Epoch 19/25\n",
      "136/136 [==============================] - 0s 2ms/step - loss: 2.1151 - accuracy: 0.8618 - val_loss: 2.0958 - val_accuracy: 0.8631\n",
      "Epoch 20/25\n",
      "136/136 [==============================] - 0s 2ms/step - loss: 2.0008 - accuracy: 0.8694 - val_loss: 2.0388 - val_accuracy: 0.8663\n",
      "Epoch 21/25\n",
      "136/136 [==============================] - 0s 2ms/step - loss: 2.1008 - accuracy: 0.8629 - val_loss: 2.2775 - val_accuracy: 0.8515\n",
      "Epoch 22/25\n",
      "136/136 [==============================] - 0s 2ms/step - loss: 2.0779 - accuracy: 0.8635 - val_loss: 2.3142 - val_accuracy: 0.8479\n",
      "Epoch 23/25\n",
      "136/136 [==============================] - 0s 2ms/step - loss: 2.0423 - accuracy: 0.8660 - val_loss: 2.1136 - val_accuracy: 0.8608\n",
      "Epoch 24/25\n",
      "136/136 [==============================] - 0s 2ms/step - loss: 2.0277 - accuracy: 0.8672 - val_loss: 2.0330 - val_accuracy: 0.8663\n",
      "Epoch 25/25\n",
      "136/136 [==============================] - 0s 2ms/step - loss: 1.9066 - accuracy: 0.8752 - val_loss: 1.9644 - val_accuracy: 0.8718\n"
     ]
    }
   ],
   "source": [
    "model_4 = build_model(25, 64, 0.2)"
   ]
  },
  {
   "cell_type": "code",
   "execution_count": 12,
   "id": "b6403d66",
   "metadata": {
    "execution": {
     "iopub.execute_input": "2024-02-14T19:46:14.214779Z",
     "iopub.status.busy": "2024-02-14T19:46:14.213623Z",
     "iopub.status.idle": "2024-02-14T19:46:14.428354Z",
     "shell.execute_reply": "2024-02-14T19:46:14.427221Z"
    },
    "papermill": {
     "duration": 0.263872,
     "end_time": "2024-02-14T19:46:14.430877",
     "exception": false,
     "start_time": "2024-02-14T19:46:14.167005",
     "status": "completed"
    },
    "tags": []
   },
   "outputs": [
    {
     "name": "stdout",
     "output_type": "stream",
     "text": [
      "56/56 [==============================] - 0s 1ms/step\n",
      "Matriz de confusión:\n",
      "[[752 140]\n",
      " [ 86 806]]\n",
      "Accuracy: 0.8733183856502242\n",
      "Precision_1: 0.8520084566596194\n",
      "Recall_1: 0.9035874439461884\n",
      "F1-score_1: 0.8770402611534277\n",
      "Precision_0: 0.8973747016706444\n",
      "Recall_0: 0.8430493273542601\n",
      "F1-score_0: 0.869364161849711\n"
     ]
    }
   ],
   "source": [
    "y_pred_4 = (model_4.predict(x_test) >= 0.5).astype(int)[:,0]\n",
    "conf_matrix = confusion_matrix(y_test_binary, y_pred_4)\n",
    "print(\"Matriz de confusión:\")\n",
    "print(conf_matrix)\n",
    "\n",
    "acc = accuracy_score(y_test_binary, y_pred_4)\n",
    "print(\"Accuracy:\", acc)\n",
    "precision = precision_score(y_test_binary, y_pred_4)\n",
    "print(\"Precision_1:\", precision)\n",
    "recall = recall_score(y_test_binary, y_pred_4)\n",
    "print(\"Recall_1:\", recall)\n",
    "f1_s = f1_score(y_test_binary, y_pred_4)\n",
    "print(\"F1-score_1:\", f1_s)\n",
    "\n",
    "\n",
    "precision_0 = precision_score(y_test_binary, y_pred_4, pos_label=0)\n",
    "print(\"Precision_0:\", precision_0)\n",
    "recall_0 = recall_score(y_test_binary, y_pred_4, pos_label=0)\n",
    "print(\"Recall_0:\", recall_0)\n",
    "f1_s_0 = f1_score(y_test_binary, y_pred_4, pos_label=0)\n",
    "print(\"F1-score_0:\", f1_s_0)"
   ]
  }
 ],
 "metadata": {
  "colab": {
   "provenance": []
  },
  "kaggle": {
   "accelerator": "none",
   "dataSources": [],
   "dockerImageVersionId": 30646,
   "isGpuEnabled": false,
   "isInternetEnabled": true,
   "language": "python",
   "sourceType": "notebook"
  },
  "kernelspec": {
   "display_name": "Python 3",
   "language": "python",
   "name": "python3"
  },
  "language_info": {
   "codemirror_mode": {
    "name": "ipython",
    "version": 3
   },
   "file_extension": ".py",
   "mimetype": "text/x-python",
   "name": "python",
   "nbconvert_exporter": "python",
   "pygments_lexer": "ipython3",
   "version": "3.10.13"
  },
  "papermill": {
   "default_parameters": {},
   "duration": 62.971493,
   "end_time": "2024-02-14T19:46:16.202555",
   "environment_variables": {},
   "exception": null,
   "input_path": "__notebook__.ipynb",
   "output_path": "__notebook__.ipynb",
   "parameters": {},
   "start_time": "2024-02-14T19:45:13.231062",
   "version": "2.5.0"
  }
 },
 "nbformat": 4,
 "nbformat_minor": 5
}
