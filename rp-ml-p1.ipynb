{
 "cells": [
  {
   "cell_type": "code",
   "execution_count": 1,
   "id": "e008cbdb",
   "metadata": {
    "_cell_guid": "b1076dfc-b9ad-4769-8c92-a6c4dae69d19",
    "_uuid": "8f2839f25d086af736a60e9eeb907d3b93b6e0e5",
    "execution": {
     "iopub.execute_input": "2024-02-05T23:32:18.738974Z",
     "iopub.status.busy": "2024-02-05T23:32:18.738431Z",
     "iopub.status.idle": "2024-02-05T23:32:21.109923Z",
     "shell.execute_reply": "2024-02-05T23:32:21.108448Z"
    },
    "papermill": {
     "duration": 2.382001,
     "end_time": "2024-02-05T23:32:21.112636",
     "exception": false,
     "start_time": "2024-02-05T23:32:18.730635",
     "status": "completed"
    },
    "tags": []
   },
   "outputs": [],
   "source": [
    "import numpy as np # linear algebra\n",
    "import pandas as pd # data processing, CSV file I/O (e.g. pd.read_csv)\n",
    "import matplotlib.pyplot as plt\n",
    "from sklearn.linear_model import LinearRegression"
   ]
  },
  {
   "cell_type": "code",
   "execution_count": 2,
   "id": "d03662a6",
   "metadata": {
    "execution": {
     "iopub.execute_input": "2024-02-05T23:32:21.121176Z",
     "iopub.status.busy": "2024-02-05T23:32:21.120345Z",
     "iopub.status.idle": "2024-02-05T23:32:21.157337Z",
     "shell.execute_reply": "2024-02-05T23:32:21.156013Z"
    },
    "papermill": {
     "duration": 0.043937,
     "end_time": "2024-02-05T23:32:21.159884",
     "exception": false,
     "start_time": "2024-02-05T23:32:21.115947",
     "status": "completed"
    },
    "tags": []
   },
   "outputs": [
    {
     "data": {
      "text/html": [
       "<div>\n",
       "<style scoped>\n",
       "    .dataframe tbody tr th:only-of-type {\n",
       "        vertical-align: middle;\n",
       "    }\n",
       "\n",
       "    .dataframe tbody tr th {\n",
       "        vertical-align: top;\n",
       "    }\n",
       "\n",
       "    .dataframe thead th {\n",
       "        text-align: right;\n",
       "    }\n",
       "</style>\n",
       "<table border=\"1\" class=\"dataframe\">\n",
       "  <thead>\n",
       "    <tr style=\"text-align: right;\">\n",
       "      <th></th>\n",
       "      <th>nombre</th>\n",
       "      <th>apellido</th>\n",
       "      <th>horas_dedicadas</th>\n",
       "      <th>calificaciones_obtenida</th>\n",
       "    </tr>\n",
       "  </thead>\n",
       "  <tbody>\n",
       "    <tr>\n",
       "      <th>0</th>\n",
       "      <td>Sofía Sánchez</td>\n",
       "      <td>Rodríguez</td>\n",
       "      <td>52</td>\n",
       "      <td>45.0</td>\n",
       "    </tr>\n",
       "    <tr>\n",
       "      <th>1</th>\n",
       "      <td>Luis Romero</td>\n",
       "      <td>Romero</td>\n",
       "      <td>2</td>\n",
       "      <td>NaN</td>\n",
       "    </tr>\n",
       "    <tr>\n",
       "      <th>2</th>\n",
       "      <td>Juan Díaz</td>\n",
       "      <td>López</td>\n",
       "      <td>170</td>\n",
       "      <td>100.0</td>\n",
       "    </tr>\n",
       "    <tr>\n",
       "      <th>3</th>\n",
       "      <td>Miguel Hernández</td>\n",
       "      <td>Álvarez</td>\n",
       "      <td>42</td>\n",
       "      <td>NaN</td>\n",
       "    </tr>\n",
       "    <tr>\n",
       "      <th>4</th>\n",
       "      <td>Juan González</td>\n",
       "      <td>Díaz</td>\n",
       "      <td>125</td>\n",
       "      <td>70.0</td>\n",
       "    </tr>\n",
       "  </tbody>\n",
       "</table>\n",
       "</div>"
      ],
      "text/plain": [
       "             nombre   apellido  horas_dedicadas  calificaciones_obtenida\n",
       "0     Sofía Sánchez  Rodríguez               52                     45.0\n",
       "1       Luis Romero     Romero                2                      NaN\n",
       "2         Juan Díaz      López              170                    100.0\n",
       "3  Miguel Hernández    Álvarez               42                      NaN\n",
       "4     Juan González       Díaz              125                     70.0"
      ]
     },
     "execution_count": 2,
     "metadata": {},
     "output_type": "execute_result"
    }
   ],
   "source": [
    "df = pd.read_csv(\"/kaggle/input/p1-dataset/datos.csv\")\n",
    "df.head()"
   ]
  },
  {
   "cell_type": "markdown",
   "id": "c338f21e",
   "metadata": {
    "papermill": {
     "duration": 0.002953,
     "end_time": "2024-02-05T23:32:21.166183",
     "exception": false,
     "start_time": "2024-02-05T23:32:21.163230",
     "status": "completed"
    },
    "tags": []
   },
   "source": [
    "### 1 \n",
    "_El mínimo, máximo, media y desviación estándar tanto para el número de\n",
    "horas dedicadas como para las calificaciones obtenidas._"
   ]
  },
  {
   "cell_type": "code",
   "execution_count": 3,
   "id": "f7ccc3bf",
   "metadata": {
    "execution": {
     "iopub.execute_input": "2024-02-05T23:32:21.174947Z",
     "iopub.status.busy": "2024-02-05T23:32:21.173752Z",
     "iopub.status.idle": "2024-02-05T23:32:21.191263Z",
     "shell.execute_reply": "2024-02-05T23:32:21.189714Z"
    },
    "papermill": {
     "duration": 0.024604,
     "end_time": "2024-02-05T23:32:21.193922",
     "exception": false,
     "start_time": "2024-02-05T23:32:21.169318",
     "status": "completed"
    },
    "tags": []
   },
   "outputs": [
    {
     "name": "stdout",
     "output_type": "stream",
     "text": [
      "Horas dedicadas: \n",
      "Max:\t 178.0\n",
      "Media:\t 99.4\n",
      "Std:\t 58.129075974801204\n",
      "\n",
      "Calificaciones obtenidas: \n",
      "Max:\t 100.0\n",
      "Media:\t 64.05555555555556\n",
      "Std:\t 33.539217119177366\n"
     ]
    }
   ],
   "source": [
    "hrs_desc = df['horas_dedicadas'].describe()\n",
    "cal_desc = df['calificaciones_obtenida'].describe()\n",
    "print(f\"Horas dedicadas: \\nMax:\\t {hrs_desc['max']}\\nMedia:\\t {hrs_desc['mean']}\\nStd:\\t {hrs_desc['std']}\\n\")\n",
    "print(f\"Calificaciones obtenidas: \\nMax:\\t {cal_desc['max']}\\nMedia:\\t {cal_desc['mean']}\\nStd:\\t {cal_desc['std']}\")"
   ]
  },
  {
   "cell_type": "markdown",
   "id": "ff625007",
   "metadata": {
    "papermill": {
     "duration": 0.003093,
     "end_time": "2024-02-05T23:32:21.200441",
     "exception": false,
     "start_time": "2024-02-05T23:32:21.197348",
     "status": "completed"
    },
    "tags": []
   },
   "source": [
    "### 2\n",
    "_Lleva a cabo un análisis de regresión lineal utilizando estos datos y presenta un gráfico que muestre el modelo de regresión junto con los datos\n",
    "originales._"
   ]
  },
  {
   "cell_type": "code",
   "execution_count": 4,
   "id": "f35d0b15",
   "metadata": {
    "execution": {
     "iopub.execute_input": "2024-02-05T23:32:21.209137Z",
     "iopub.status.busy": "2024-02-05T23:32:21.208449Z",
     "iopub.status.idle": "2024-02-05T23:32:21.212595Z",
     "shell.execute_reply": "2024-02-05T23:32:21.211784Z"
    },
    "papermill": {
     "duration": 0.010957,
     "end_time": "2024-02-05T23:32:21.214785",
     "exception": false,
     "start_time": "2024-02-05T23:32:21.203828",
     "status": "completed"
    },
    "tags": []
   },
   "outputs": [],
   "source": [
    "model = LinearRegression()"
   ]
  }
 ],
 "metadata": {
  "kaggle": {
   "accelerator": "none",
   "dataSources": [
    {
     "datasetId": 4404977,
     "sourceId": 7565341,
     "sourceType": "datasetVersion"
    }
   ],
   "dockerImageVersionId": 30646,
   "isGpuEnabled": false,
   "isInternetEnabled": true,
   "language": "python",
   "sourceType": "notebook"
  },
  "kernelspec": {
   "display_name": "Python 3",
   "language": "python",
   "name": "python3"
  },
  "language_info": {
   "codemirror_mode": {
    "name": "ipython",
    "version": 3
   },
   "file_extension": ".py",
   "mimetype": "text/x-python",
   "name": "python",
   "nbconvert_exporter": "python",
   "pygments_lexer": "ipython3",
   "version": "3.10.13"
  },
  "papermill": {
   "default_parameters": {},
   "duration": 6.196758,
   "end_time": "2024-02-05T23:32:21.838717",
   "environment_variables": {},
   "exception": null,
   "input_path": "__notebook__.ipynb",
   "output_path": "__notebook__.ipynb",
   "parameters": {},
   "start_time": "2024-02-05T23:32:15.641959",
   "version": "2.5.0"
  }
 },
 "nbformat": 4,
 "nbformat_minor": 5
}
