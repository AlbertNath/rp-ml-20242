{
 "cells": [
  {
   "cell_type": "code",
   "execution_count": 1,
   "id": "638e681a",
   "metadata": {
    "_cell_guid": "b1076dfc-b9ad-4769-8c92-a6c4dae69d19",
    "_uuid": "8f2839f25d086af736a60e9eeb907d3b93b6e0e5",
    "execution": {
     "iopub.execute_input": "2024-02-06T23:04:13.668719Z",
     "iopub.status.busy": "2024-02-06T23:04:13.668206Z",
     "iopub.status.idle": "2024-02-06T23:04:16.590698Z",
     "shell.execute_reply": "2024-02-06T23:04:16.589537Z"
    },
    "papermill": {
     "duration": 2.932942,
     "end_time": "2024-02-06T23:04:16.593667",
     "exception": false,
     "start_time": "2024-02-06T23:04:13.660725",
     "status": "completed"
    },
    "tags": []
   },
   "outputs": [],
   "source": [
    "import numpy as np # linear algebra\n",
    "import pandas as pd # data processing, CSV file I/O (e.g. pd.read_csv)\n",
    "import matplotlib.pyplot as plt\n",
    "from sklearn.linear_model import LinearRegression"
   ]
  },
  {
   "cell_type": "code",
   "execution_count": 2,
   "id": "4c364cff",
   "metadata": {
    "execution": {
     "iopub.execute_input": "2024-02-06T23:04:16.605883Z",
     "iopub.status.busy": "2024-02-06T23:04:16.605324Z",
     "iopub.status.idle": "2024-02-06T23:04:16.644302Z",
     "shell.execute_reply": "2024-02-06T23:04:16.643119Z"
    },
    "papermill": {
     "duration": 0.048664,
     "end_time": "2024-02-06T23:04:16.647718",
     "exception": false,
     "start_time": "2024-02-06T23:04:16.599054",
     "status": "completed"
    },
    "tags": []
   },
   "outputs": [
    {
     "data": {
      "text/html": [
       "<div>\n",
       "<style scoped>\n",
       "    .dataframe tbody tr th:only-of-type {\n",
       "        vertical-align: middle;\n",
       "    }\n",
       "\n",
       "    .dataframe tbody tr th {\n",
       "        vertical-align: top;\n",
       "    }\n",
       "\n",
       "    .dataframe thead th {\n",
       "        text-align: right;\n",
       "    }\n",
       "</style>\n",
       "<table border=\"1\" class=\"dataframe\">\n",
       "  <thead>\n",
       "    <tr style=\"text-align: right;\">\n",
       "      <th></th>\n",
       "      <th>nombre</th>\n",
       "      <th>apellido</th>\n",
       "      <th>horas_dedicadas</th>\n",
       "      <th>calificaciones_obtenida</th>\n",
       "    </tr>\n",
       "  </thead>\n",
       "  <tbody>\n",
       "    <tr>\n",
       "      <th>0</th>\n",
       "      <td>Sofía Sánchez</td>\n",
       "      <td>Rodríguez</td>\n",
       "      <td>52</td>\n",
       "      <td>45.0</td>\n",
       "    </tr>\n",
       "    <tr>\n",
       "      <th>1</th>\n",
       "      <td>Luis Romero</td>\n",
       "      <td>Romero</td>\n",
       "      <td>2</td>\n",
       "      <td>NaN</td>\n",
       "    </tr>\n",
       "    <tr>\n",
       "      <th>2</th>\n",
       "      <td>Juan Díaz</td>\n",
       "      <td>López</td>\n",
       "      <td>170</td>\n",
       "      <td>100.0</td>\n",
       "    </tr>\n",
       "    <tr>\n",
       "      <th>3</th>\n",
       "      <td>Miguel Hernández</td>\n",
       "      <td>Álvarez</td>\n",
       "      <td>42</td>\n",
       "      <td>NaN</td>\n",
       "    </tr>\n",
       "    <tr>\n",
       "      <th>4</th>\n",
       "      <td>Juan González</td>\n",
       "      <td>Díaz</td>\n",
       "      <td>125</td>\n",
       "      <td>70.0</td>\n",
       "    </tr>\n",
       "  </tbody>\n",
       "</table>\n",
       "</div>"
      ],
      "text/plain": [
       "             nombre   apellido  horas_dedicadas  calificaciones_obtenida\n",
       "0     Sofía Sánchez  Rodríguez               52                     45.0\n",
       "1       Luis Romero     Romero                2                      NaN\n",
       "2         Juan Díaz      López              170                    100.0\n",
       "3  Miguel Hernández    Álvarez               42                      NaN\n",
       "4     Juan González       Díaz              125                     70.0"
      ]
     },
     "execution_count": 2,
     "metadata": {},
     "output_type": "execute_result"
    }
   ],
   "source": [
    "df = pd.read_csv(\"/kaggle/input/p1-dataset/datos.csv\")\n",
    "df.head()"
   ]
  },
  {
   "cell_type": "markdown",
   "id": "3d431bda",
   "metadata": {
    "papermill": {
     "duration": 0.005046,
     "end_time": "2024-02-06T23:04:16.657772",
     "exception": false,
     "start_time": "2024-02-06T23:04:16.652726",
     "status": "completed"
    },
    "tags": []
   },
   "source": [
    "### 1 \n",
    "_El mínimo, máximo, media y desviación estándar tanto para el número de\n",
    "horas dedicadas como para las calificaciones obtenidas._"
   ]
  },
  {
   "cell_type": "code",
   "execution_count": 3,
   "id": "2c315061",
   "metadata": {
    "execution": {
     "iopub.execute_input": "2024-02-06T23:04:16.669972Z",
     "iopub.status.busy": "2024-02-06T23:04:16.669198Z",
     "iopub.status.idle": "2024-02-06T23:04:16.687859Z",
     "shell.execute_reply": "2024-02-06T23:04:16.686214Z"
    },
    "papermill": {
     "duration": 0.027994,
     "end_time": "2024-02-06T23:04:16.690672",
     "exception": false,
     "start_time": "2024-02-06T23:04:16.662678",
     "status": "completed"
    },
    "tags": []
   },
   "outputs": [
    {
     "name": "stdout",
     "output_type": "stream",
     "text": [
      "Horas dedicadas: \n",
      "Max:\t 178.0\n",
      "Media:\t 99.4\n",
      "Std:\t 58.129075974801204\n",
      "\n",
      "Calificaciones obtenidas: \n",
      "Max:\t 100.0\n",
      "Media:\t 64.05555555555556\n",
      "Std:\t 33.539217119177366\n"
     ]
    }
   ],
   "source": [
    "hrs_desc = df['horas_dedicadas'].describe()\n",
    "cal_desc = df['calificaciones_obtenida'].describe()\n",
    "print(f\"Horas dedicadas: \\nMax:\\t {hrs_desc['max']}\\nMedia:\\t {hrs_desc['mean']}\\nStd:\\t {hrs_desc['std']}\\n\")\n",
    "print(f\"Calificaciones obtenidas: \\nMax:\\t {cal_desc['max']}\\nMedia:\\t {cal_desc['mean']}\\nStd:\\t {cal_desc['std']}\")"
   ]
  },
  {
   "cell_type": "code",
   "execution_count": 4,
   "id": "7a2914f1",
   "metadata": {
    "execution": {
     "iopub.execute_input": "2024-02-06T23:04:16.702543Z",
     "iopub.status.busy": "2024-02-06T23:04:16.702142Z",
     "iopub.status.idle": "2024-02-06T23:04:16.720070Z",
     "shell.execute_reply": "2024-02-06T23:04:16.718992Z"
    },
    "papermill": {
     "duration": 0.026742,
     "end_time": "2024-02-06T23:04:16.722552",
     "exception": false,
     "start_time": "2024-02-06T23:04:16.695810",
     "status": "completed"
    },
    "tags": []
   },
   "outputs": [
    {
     "data": {
      "text/html": [
       "<div>\n",
       "<style scoped>\n",
       "    .dataframe tbody tr th:only-of-type {\n",
       "        vertical-align: middle;\n",
       "    }\n",
       "\n",
       "    .dataframe tbody tr th {\n",
       "        vertical-align: top;\n",
       "    }\n",
       "\n",
       "    .dataframe thead th {\n",
       "        text-align: right;\n",
       "    }\n",
       "</style>\n",
       "<table border=\"1\" class=\"dataframe\">\n",
       "  <thead>\n",
       "    <tr style=\"text-align: right;\">\n",
       "      <th></th>\n",
       "      <th>nombre</th>\n",
       "      <th>apellido</th>\n",
       "      <th>horas_dedicadas</th>\n",
       "      <th>calificaciones_obtenida</th>\n",
       "    </tr>\n",
       "  </thead>\n",
       "  <tbody>\n",
       "    <tr>\n",
       "      <th>0</th>\n",
       "      <td>Sofía Sánchez</td>\n",
       "      <td>Rodríguez</td>\n",
       "      <td>52</td>\n",
       "      <td>45.0</td>\n",
       "    </tr>\n",
       "    <tr>\n",
       "      <th>1</th>\n",
       "      <td>Luis Romero</td>\n",
       "      <td>Romero</td>\n",
       "      <td>2</td>\n",
       "      <td>0.0</td>\n",
       "    </tr>\n",
       "    <tr>\n",
       "      <th>2</th>\n",
       "      <td>Juan Díaz</td>\n",
       "      <td>López</td>\n",
       "      <td>170</td>\n",
       "      <td>100.0</td>\n",
       "    </tr>\n",
       "    <tr>\n",
       "      <th>3</th>\n",
       "      <td>Miguel Hernández</td>\n",
       "      <td>Álvarez</td>\n",
       "      <td>42</td>\n",
       "      <td>0.0</td>\n",
       "    </tr>\n",
       "    <tr>\n",
       "      <th>4</th>\n",
       "      <td>Juan González</td>\n",
       "      <td>Díaz</td>\n",
       "      <td>125</td>\n",
       "      <td>70.0</td>\n",
       "    </tr>\n",
       "    <tr>\n",
       "      <th>5</th>\n",
       "      <td>Juan García</td>\n",
       "      <td>Fernández</td>\n",
       "      <td>47</td>\n",
       "      <td>40.0</td>\n",
       "    </tr>\n",
       "    <tr>\n",
       "      <th>6</th>\n",
       "      <td>Luis Romero</td>\n",
       "      <td>López</td>\n",
       "      <td>149</td>\n",
       "      <td>100.0</td>\n",
       "    </tr>\n",
       "    <tr>\n",
       "      <th>7</th>\n",
       "      <td>Miguel Fernández</td>\n",
       "      <td>Romero</td>\n",
       "      <td>162</td>\n",
       "      <td>80.0</td>\n",
       "    </tr>\n",
       "    <tr>\n",
       "      <th>8</th>\n",
       "      <td>Carmen Pérez</td>\n",
       "      <td>Álvarez</td>\n",
       "      <td>139</td>\n",
       "      <td>45.0</td>\n",
       "    </tr>\n",
       "    <tr>\n",
       "      <th>9</th>\n",
       "      <td>Juan Rodríguez</td>\n",
       "      <td>Romero</td>\n",
       "      <td>18</td>\n",
       "      <td>30.0</td>\n",
       "    </tr>\n",
       "    <tr>\n",
       "      <th>10</th>\n",
       "      <td>Paula Pérez</td>\n",
       "      <td>Díaz</td>\n",
       "      <td>30</td>\n",
       "      <td>0.0</td>\n",
       "    </tr>\n",
       "    <tr>\n",
       "      <th>11</th>\n",
       "      <td>Ana Fernández</td>\n",
       "      <td>García</td>\n",
       "      <td>152</td>\n",
       "      <td>100.0</td>\n",
       "    </tr>\n",
       "    <tr>\n",
       "      <th>12</th>\n",
       "      <td>Ana García</td>\n",
       "      <td>López</td>\n",
       "      <td>51</td>\n",
       "      <td>0.0</td>\n",
       "    </tr>\n",
       "    <tr>\n",
       "      <th>13</th>\n",
       "      <td>Miguel Romero</td>\n",
       "      <td>Sánchez</td>\n",
       "      <td>164</td>\n",
       "      <td>98.0</td>\n",
       "    </tr>\n",
       "    <tr>\n",
       "      <th>14</th>\n",
       "      <td>Antonio García</td>\n",
       "      <td>Muñoz</td>\n",
       "      <td>93</td>\n",
       "      <td>60.0</td>\n",
       "    </tr>\n",
       "    <tr>\n",
       "      <th>15</th>\n",
       "      <td>Paula Romero</td>\n",
       "      <td>Sánchez</td>\n",
       "      <td>162</td>\n",
       "      <td>100.0</td>\n",
       "    </tr>\n",
       "    <tr>\n",
       "      <th>16</th>\n",
       "      <td>Diego Romero</td>\n",
       "      <td>Díaz</td>\n",
       "      <td>55</td>\n",
       "      <td>40.0</td>\n",
       "    </tr>\n",
       "    <tr>\n",
       "      <th>17</th>\n",
       "      <td>Ana Pérez</td>\n",
       "      <td>Rodríguez</td>\n",
       "      <td>178</td>\n",
       "      <td>70.0</td>\n",
       "    </tr>\n",
       "    <tr>\n",
       "      <th>18</th>\n",
       "      <td>Paula López</td>\n",
       "      <td>Muñoz</td>\n",
       "      <td>97</td>\n",
       "      <td>80.0</td>\n",
       "    </tr>\n",
       "    <tr>\n",
       "      <th>19</th>\n",
       "      <td>Carlos Sánchez</td>\n",
       "      <td>Rodríguez</td>\n",
       "      <td>100</td>\n",
       "      <td>95.0</td>\n",
       "    </tr>\n",
       "  </tbody>\n",
       "</table>\n",
       "</div>"
      ],
      "text/plain": [
       "              nombre   apellido  horas_dedicadas  calificaciones_obtenida\n",
       "0      Sofía Sánchez  Rodríguez               52                     45.0\n",
       "1        Luis Romero     Romero                2                      0.0\n",
       "2          Juan Díaz      López              170                    100.0\n",
       "3   Miguel Hernández    Álvarez               42                      0.0\n",
       "4      Juan González       Díaz              125                     70.0\n",
       "5        Juan García  Fernández               47                     40.0\n",
       "6        Luis Romero      López              149                    100.0\n",
       "7   Miguel Fernández     Romero              162                     80.0\n",
       "8       Carmen Pérez    Álvarez              139                     45.0\n",
       "9     Juan Rodríguez     Romero               18                     30.0\n",
       "10       Paula Pérez       Díaz               30                      0.0\n",
       "11     Ana Fernández     García              152                    100.0\n",
       "12        Ana García      López               51                      0.0\n",
       "13     Miguel Romero    Sánchez              164                     98.0\n",
       "14    Antonio García      Muñoz               93                     60.0\n",
       "15      Paula Romero    Sánchez              162                    100.0\n",
       "16      Diego Romero       Díaz               55                     40.0\n",
       "17         Ana Pérez  Rodríguez              178                     70.0\n",
       "18       Paula López      Muñoz               97                     80.0\n",
       "19    Carlos Sánchez  Rodríguez              100                     95.0"
      ]
     },
     "execution_count": 4,
     "metadata": {},
     "output_type": "execute_result"
    }
   ],
   "source": [
    "# Podríamos estimar valores con la media y la descviación estándar\n",
    "df = df.fillna(0)\n",
    "df"
   ]
  },
  {
   "cell_type": "markdown",
   "id": "ecc68b77",
   "metadata": {
    "papermill": {
     "duration": 0.005748,
     "end_time": "2024-02-06T23:04:16.733844",
     "exception": false,
     "start_time": "2024-02-06T23:04:16.728096",
     "status": "completed"
    },
    "tags": []
   },
   "source": [
    "### 2\n",
    "_Lleva a cabo un análisis de regresión lineal utilizando estos datos y presenta un gráfico que muestre el modelo de regresión junto con los datos\n",
    "originales._"
   ]
  },
  {
   "cell_type": "code",
   "execution_count": 5,
   "id": "fd5bb335",
   "metadata": {
    "execution": {
     "iopub.execute_input": "2024-02-06T23:04:16.746846Z",
     "iopub.status.busy": "2024-02-06T23:04:16.746432Z",
     "iopub.status.idle": "2024-02-06T23:04:17.163793Z",
     "shell.execute_reply": "2024-02-06T23:04:17.162383Z"
    },
    "papermill": {
     "duration": 0.427425,
     "end_time": "2024-02-06T23:04:17.166953",
     "exception": false,
     "start_time": "2024-02-06T23:04:16.739528",
     "status": "completed"
    },
    "tags": []
   },
   "outputs": [
    {
     "data": {
      "image/png": "[encoded data removed]",
      "text/plain": [
       "<Figure size 640x480 with 1 Axes>"
      ]
     },
     "metadata": {},
     "output_type": "display_data"
    }
   ],
   "source": [
    "X = df['horas_dedicadas'].values.reshape(-1,1)\n",
    "y = df['calificaciones_obtenida'].values \n",
    "model = LinearRegression()\n",
    "model.fit(X, y)\n",
    "preds = model.predict(X)\n",
    "\n",
    "plt.scatter(X, y, color='blue')\n",
    "plt.plot(X, preds, color='red')\n",
    "plt.title('Regresión de calificaiones')\n",
    "plt.xlabel('Horas dedicadas')\n",
    "plt.ylabel('Calificación obtenida')\n",
    "plt.show()"
   ]
  },
  {
   "cell_type": "markdown",
   "id": "b9d95423",
   "metadata": {
    "papermill": {
     "duration": 0.005787,
     "end_time": "2024-02-06T23:04:17.178856",
     "exception": false,
     "start_time": "2024-02-06T23:04:17.173069",
     "status": "completed"
    },
    "tags": []
   },
   "source": [
    "### 3\n",
    "_Utiliza el modelo de regresión para realizar una predicción de la calificación\n",
    "de un estudiante que hubiera dedicado n horas en el semestre a la materia\n",
    "(donde $n$ es la suma de los dígitos de su número de cuenta módulo 50)._"
   ]
  },
  {
   "cell_type": "code",
   "execution_count": 6,
   "id": "8c756287",
   "metadata": {
    "execution": {
     "iopub.execute_input": "2024-02-06T23:04:17.193462Z",
     "iopub.status.busy": "2024-02-06T23:04:17.192980Z",
     "iopub.status.idle": "2024-02-06T23:04:17.200530Z",
     "shell.execute_reply": "2024-02-06T23:04:17.199007Z"
    },
    "papermill": {
     "duration": 0.017783,
     "end_time": "2024-02-06T23:04:17.203202",
     "exception": false,
     "start_time": "2024-02-06T23:04:17.185419",
     "status": "completed"
    },
    "tags": []
   },
   "outputs": [
    {
     "name": "stdout",
     "output_type": "stream",
     "text": [
      "Predicción para 40: 2.5e+01\n"
     ]
    }
   ],
   "source": [
    "n = 40 % 50\n",
    "pred = model.predict(np.array([[n]]))\n",
    "print(f\"Predicción para {n}: {pred.item():.2}\")"
   ]
  },
  {
   "cell_type": "markdown",
   "id": "b0406b97",
   "metadata": {
    "papermill": {
     "duration": 0.006276,
     "end_time": "2024-02-06T23:04:17.215622",
     "exception": false,
     "start_time": "2024-02-06T23:04:17.209346",
     "status": "completed"
    },
    "tags": []
   },
   "source": [
    "### 4\n",
    "_Investiga métodos para evaluar la bondad de ajuste de tu modelo y determinar cuán efectivamente explica el comportamiento de los datos._"
   ]
  },
  {
   "cell_type": "markdown",
   "id": "b6e089fe",
   "metadata": {
    "papermill": {
     "duration": 0.006254,
     "end_time": "2024-02-06T23:04:17.228493",
     "exception": false,
     "start_time": "2024-02-06T23:04:17.222239",
     "status": "completed"
    },
    "tags": []
   },
   "source": [
    "Algunos métodos para estimar la bondad de ajuste de un modelo de regresión lineal son:\n",
    "- RMSE: es una medida absoluta de ajuste. Representa la raíz cuadrada de la distancia cuadrada promedio entre el valor real y el predicho. Usualmente es la métrica más habitual para calcular el ajuste del modelo y se define por la fórmula: $$RMSE = \\sqrt{\\frac{1}{n}\\sum_{j=1}^n (y_j - \\hat{y}_j)^2}$$\n",
    "- MAE: es el error absoluto medio, que consta de tomar el promedio del valor absoluto de la distancia de los valores reales respecto a los predichos. $$\\frac{1}{n}\\sum_{j=1}^n |y_j - \\hat{y}_j|$$\n",
    "- R2: indica la bondad del modelo, mostrando que las variables independientes seleccionadas explican la variabilidad de las dependientes. Está en el rango $[0,1]$, donde $0$ representa un modelo no mejora la predicción sobre el modelo medio y $1$ indica una predicción perfecta. $$R^2 = 1- \n",
    "\\frac{\\sum_j (y_j - \\hat{y}_j)^2}{\\sum_j (\\hat{y}_j - y_j)^2}$$"
   ]
  },
  {
   "cell_type": "code",
   "execution_count": 7,
   "id": "ecb715b4",
   "metadata": {
    "execution": {
     "iopub.execute_input": "2024-02-06T23:04:17.243457Z",
     "iopub.status.busy": "2024-02-06T23:04:17.242879Z",
     "iopub.status.idle": "2024-02-06T23:04:17.251623Z",
     "shell.execute_reply": "2024-02-06T23:04:17.249974Z"
    },
    "papermill": {
     "duration": 0.019544,
     "end_time": "2024-02-06T23:04:17.254617",
     "exception": false,
     "start_time": "2024-02-06T23:04:17.235073",
     "status": "completed"
    },
    "tags": []
   },
   "outputs": [
    {
     "name": "stdout",
     "output_type": "stream",
     "text": [
      "RMSE:\t 372.0000306849759\n",
      "R2:\t 0.7193358137770824\n"
     ]
    }
   ],
   "source": [
    "from sklearn.metrics import mean_squared_error, r2_score\n",
    "\n",
    "rmse = mean_squared_error(y, preds)\n",
    "r2   = r2_score(y, preds)\n",
    "print(f\"RMSE:\\t {rmse}\\nR2:\\t {r2}\")"
   ]
  }
 ],
 "metadata": {
  "kaggle": {
   "accelerator": "none",
   "dataSources": [
    {
     "datasetId": 4404977,
     "sourceId": 7565341,
     "sourceType": "datasetVersion"
    }
   ],
   "dockerImageVersionId": 30646,
   "isGpuEnabled": false,
   "isInternetEnabled": true,
   "language": "python",
   "sourceType": "notebook"
  },
  "kernelspec": {
   "display_name": "Python 3",
   "language": "python",
   "name": "python3"
  },
  "language_info": {
   "codemirror_mode": {
    "name": "ipython",
    "version": 3
   },
   "file_extension": ".py",
   "mimetype": "text/x-python",
   "name": "python",
   "nbconvert_exporter": "python",
   "pygments_lexer": "ipython3",
   "version": "3.10.13"
  },
  "papermill": {
   "default_parameters": {},
   "duration": 7.543878,
   "end_time": "2024-02-06T23:04:17.885252",
   "environment_variables": {},
   "exception": null,
   "input_path": "__notebook__.ipynb",
   "output_path": "__notebook__.ipynb",
   "parameters": {},
   "start_time": "2024-02-06T23:04:10.341374",
   "version": "2.5.0"
  }
 },
 "nbformat": 4,
 "nbformat_minor": 5
}
