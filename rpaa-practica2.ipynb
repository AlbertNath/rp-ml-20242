{
 "cells": [
  {
   "cell_type": "code",
   "execution_count": 1,
   "id": "dbb4302a",
   "metadata": {
    "execution": {
     "iopub.execute_input": "2024-02-14T02:27:14.459272Z",
     "iopub.status.busy": "2024-02-14T02:27:14.458244Z",
     "iopub.status.idle": "2024-02-14T02:27:32.836820Z",
     "shell.execute_reply": "2024-02-14T02:27:32.834802Z"
    },
    "id": "50CNad4MEsHq",
    "papermill": {
     "duration": 18.390081,
     "end_time": "2024-02-14T02:27:32.839496",
     "exception": false,
     "start_time": "2024-02-14T02:27:14.449415",
     "status": "completed"
    },
    "tags": []
   },
   "outputs": [
    {
     "name": "stderr",
     "output_type": "stream",
     "text": [
      "2024-02-14 02:27:17.179123: E external/local_xla/xla/stream_executor/cuda/cuda_dnn.cc:9261] Unable to register cuDNN factory: Attempting to register factory for plugin cuDNN when one has already been registered\n",
      "2024-02-14 02:27:17.179344: E external/local_xla/xla/stream_executor/cuda/cuda_fft.cc:607] Unable to register cuFFT factory: Attempting to register factory for plugin cuFFT when one has already been registered\n",
      "2024-02-14 02:27:17.369654: E external/local_xla/xla/stream_executor/cuda/cuda_blas.cc:1515] Unable to register cuBLAS factory: Attempting to register factory for plugin cuBLAS when one has already been registered\n"
     ]
    },
    {
     "name": "stdout",
     "output_type": "stream",
     "text": [
      "Downloading data from https://storage.googleapis.com/tensorflow/tf-keras-datasets/mnist.npz\n",
      "11490434/11490434 [==============================] - 0s 0us/step\n",
      "(10842, 28, 28)\n",
      "(1784, 28, 28)\n"
     ]
    }
   ],
   "source": [
    "from keras.datasets import mnist\n",
    "import numpy as np\n",
    "\n",
    "(x_train, y_train), (x_test, y_test) = mnist.load_data()\n",
    "\n",
    "# Se obtiene una muestra con igual número de: cincos vs no cincos\n",
    "# para el conjunto de entrenamiento y el de test\n",
    "idx_y_train_5 = np.where(y_train == 5)[0]\n",
    "idx_y_train_n5 = np.where(y_train != 5)[0]\n",
    "idx_y_train_n5 = np.random.choice(idx_y_train_n5, idx_y_train_5.shape[0], replace=False)\n",
    "\n",
    "idx_y_train = np.concatenate([idx_y_train_5, idx_y_train_n5])\n",
    "np.random.shuffle(idx_y_train)\n",
    "\n",
    "x_train = x_train[idx_y_train]\n",
    "y_train = y_train[idx_y_train]\n",
    "print(x_train.shape)\n",
    "\n",
    "idx_y_test_5 = np.where(y_test == 5)[0]\n",
    "idx_y_test_n5 = np.where(y_test != 5)[0]\n",
    "idx_y_test_n5 = np.random.choice(idx_y_test_n5, idx_y_test_5.shape[0], replace=False)\n",
    "\n",
    "idx_y_test = np.concatenate([idx_y_test_5, idx_y_test_n5])\n",
    "np.random.shuffle(idx_y_test)\n",
    "\n",
    "x_test = x_test[idx_y_test]\n",
    "y_test = y_test[idx_y_test]\n",
    "print(x_test.shape)\n",
    "\n",
    "y_train_binary = (y_train == 5).astype(int)\n",
    "y_test_binary = (y_test == 5).astype(int)"
   ]
  },
  {
   "cell_type": "markdown",
   "id": "486f67f1",
   "metadata": {
    "papermill": {
     "duration": 0.006361,
     "end_time": "2024-02-14T02:27:32.852862",
     "exception": false,
     "start_time": "2024-02-14T02:27:32.846501",
     "status": "completed"
    },
    "tags": []
   },
   "source": [
    "# 1\n",
    "`epochs`           = 4\n",
    "\n",
    "`batch size`       = 2000\n",
    "\n",
    "`validation split` = 0.9"
   ]
  },
  {
   "cell_type": "code",
   "execution_count": 2,
   "id": "74e93ab0",
   "metadata": {
    "execution": {
     "iopub.execute_input": "2024-02-14T02:27:32.868426Z",
     "iopub.status.busy": "2024-02-14T02:27:32.867665Z",
     "iopub.status.idle": "2024-02-14T02:27:34.275320Z",
     "shell.execute_reply": "2024-02-14T02:27:34.274380Z"
    },
    "id": "3aBy0CQvHcT9",
    "papermill": {
     "duration": 1.418333,
     "end_time": "2024-02-14T02:27:34.277788",
     "exception": false,
     "start_time": "2024-02-14T02:27:32.859455",
     "status": "completed"
    },
    "tags": []
   },
   "outputs": [
    {
     "name": "stdout",
     "output_type": "stream",
     "text": [
      "Model: \"sequential\"\n",
      "_________________________________________________________________\n",
      " Layer (type)                Output Shape              Param #   \n",
      "=================================================================\n",
      " flatten (Flatten)           (None, 784)               0         \n",
      "                                                                 \n",
      " dense (Dense)               (None, 1)                 785       \n",
      "                                                                 \n",
      "=================================================================\n",
      "Total params: 785 (3.07 KB)\n",
      "Trainable params: 785 (3.07 KB)\n",
      "Non-trainable params: 0 (0.00 Byte)\n",
      "_________________________________________________________________\n",
      "None\n",
      "Epoch 1/4\n",
      "1/1 [==============================] - 1s 843ms/step - loss: 7.9268 - accuracy: 0.4797 - val_loss: 7.6162 - val_accuracy: 0.5006\n",
      "Epoch 2/4\n",
      "1/1 [==============================] - 0s 57ms/step - loss: 7.9491 - accuracy: 0.4788 - val_loss: 7.6162 - val_accuracy: 0.5006\n",
      "Epoch 3/4\n",
      "1/1 [==============================] - 0s 44ms/step - loss: 7.9491 - accuracy: 0.4788 - val_loss: 7.6162 - val_accuracy: 0.5006\n",
      "Epoch 4/4\n",
      "1/1 [==============================] - 0s 55ms/step - loss: 7.9491 - accuracy: 0.4788 - val_loss: 7.6162 - val_accuracy: 0.5006\n"
     ]
    },
    {
     "data": {
      "text/plain": [
       "<keras.src.callbacks.History at 0x7aeb2bfcbaf0>"
      ]
     },
     "execution_count": 2,
     "metadata": {},
     "output_type": "execute_result"
    }
   ],
   "source": [
    "from keras.models import Sequential\n",
    "from keras.layers import Flatten, Dense\n",
    "from keras.metrics import F1Score\n",
    "\n",
    "model = Sequential([\n",
    "    Flatten(input_shape=(28, 28)),\n",
    "    Dense(1)\n",
    "])\n",
    "\n",
    "print(model.summary())\n",
    "\n",
    "model.compile(loss='binary_crossentropy', metrics=['accuracy'])\n",
    "model.fit(x_train, y_train_binary, epochs=4, batch_size=2000, validation_split=0.9)"
   ]
  },
  {
   "cell_type": "code",
   "execution_count": 3,
   "id": "b14a0d65",
   "metadata": {
    "execution": {
     "iopub.execute_input": "2024-02-14T02:27:34.298799Z",
     "iopub.status.busy": "2024-02-14T02:27:34.297789Z",
     "iopub.status.idle": "2024-02-14T02:27:35.923914Z",
     "shell.execute_reply": "2024-02-14T02:27:35.922648Z"
    },
    "id": "Bcb43x96H6xD",
    "papermill": {
     "duration": 1.639761,
     "end_time": "2024-02-14T02:27:35.926894",
     "exception": false,
     "start_time": "2024-02-14T02:27:34.287133",
     "status": "completed"
    },
    "tags": []
   },
   "outputs": [
    {
     "name": "stdout",
     "output_type": "stream",
     "text": [
      "56/56 [==============================] - 0s 1ms/step\n",
      "Matriz de confusión:\n",
      "[[ 12 880]\n",
      " [  5 887]]\n",
      "Precision_1: 0.5019807583474816\n",
      "Recall_1: 0.9943946188340808\n",
      "F1-score_1: 0.6671681083113952\n",
      "Precision_0: 0.7058823529411765\n",
      "Recall_0: 0.013452914798206279\n",
      "F1-score_0: 0.026402640264026403\n"
     ]
    }
   ],
   "source": [
    "from sklearn.metrics import confusion_matrix, \\\n",
    "precision_score, recall_score,f1_score\n",
    "\n",
    "y_pred = (model.predict(x_test) >= 0.5).astype(int)[:,0]\n",
    "conf_matrix = confusion_matrix(y_test_binary, y_pred)\n",
    "print(\"Matriz de confusión:\")\n",
    "print(conf_matrix)\n",
    "\n",
    "precision = precision_score(y_test_binary, y_pred)\n",
    "print(\"Precision_1:\", precision)\n",
    "recall = recall_score(y_test_binary, y_pred)\n",
    "print(\"Recall_1:\", recall)\n",
    "f1_s = f1_score(y_test_binary, y_pred)\n",
    "print(\"F1-score_1:\", f1_s)\n",
    "\n",
    "\n",
    "precision_0 = precision_score(y_test_binary, y_pred, pos_label=0)\n",
    "print(\"Precision_0:\", precision_0)\n",
    "recall_0 = recall_score(y_test_binary, y_pred, pos_label=0)\n",
    "print(\"Recall_0:\", recall_0)\n",
    "f1_s_0 = f1_score(y_test_binary, y_pred, pos_label=0)\n",
    "print(\"F1-score_0:\", f1_s_0)"
   ]
  },
  {
   "cell_type": "markdown",
   "id": "537b22d8",
   "metadata": {
    "papermill": {
     "duration": 0.009242,
     "end_time": "2024-02-14T02:27:35.946347",
     "exception": false,
     "start_time": "2024-02-14T02:27:35.937105",
     "status": "completed"
    },
    "tags": []
   },
   "source": [
    "# 2\n",
    "`epochs`           = 20\n",
    "\n",
    "`batch size`       = 2000\n",
    "\n",
    "`validation split` = 0.9"
   ]
  },
  {
   "cell_type": "code",
   "execution_count": 4,
   "id": "08b779bc",
   "metadata": {
    "execution": {
     "iopub.execute_input": "2024-02-14T02:27:35.967706Z",
     "iopub.status.busy": "2024-02-14T02:27:35.967034Z",
     "iopub.status.idle": "2024-02-14T02:27:37.819356Z",
     "shell.execute_reply": "2024-02-14T02:27:37.818097Z"
    },
    "papermill": {
     "duration": 1.866587,
     "end_time": "2024-02-14T02:27:37.822364",
     "exception": false,
     "start_time": "2024-02-14T02:27:35.955777",
     "status": "completed"
    },
    "tags": []
   },
   "outputs": [
    {
     "name": "stdout",
     "output_type": "stream",
     "text": [
      "Model: \"sequential_1\"\n",
      "_________________________________________________________________\n",
      " Layer (type)                Output Shape              Param #   \n",
      "=================================================================\n",
      " flatten_1 (Flatten)         (None, 784)               0         \n",
      "                                                                 \n",
      " dense_1 (Dense)             (None, 1)                 785       \n",
      "                                                                 \n",
      "=================================================================\n",
      "Total params: 785 (3.07 KB)\n",
      "Trainable params: 785 (3.07 KB)\n",
      "Non-trainable params: 0 (0.00 Byte)\n",
      "_________________________________________________________________\n",
      "None\n",
      "Epoch 1/20\n",
      "1/1 [==============================] - 1s 666ms/step - loss: 8.2693 - accuracy: 0.4585 - val_loss: 7.8127 - val_accuracy: 0.4871\n",
      "Epoch 2/20\n",
      "1/1 [==============================] - 0s 49ms/step - loss: 7.9511 - accuracy: 0.4760 - val_loss: 7.5540 - val_accuracy: 0.5042\n",
      "Epoch 3/20\n",
      "1/1 [==============================] - 0s 48ms/step - loss: 7.8266 - accuracy: 0.4871 - val_loss: 7.5180 - val_accuracy: 0.5068\n",
      "Epoch 4/20\n",
      "1/1 [==============================] - 0s 51ms/step - loss: 7.7978 - accuracy: 0.4889 - val_loss: 7.5180 - val_accuracy: 0.5068\n",
      "Epoch 5/20\n",
      "1/1 [==============================] - 0s 47ms/step - loss: 7.7978 - accuracy: 0.4889 - val_loss: 7.5180 - val_accuracy: 0.5068\n",
      "Epoch 6/20\n",
      "1/1 [==============================] - 0s 51ms/step - loss: 7.7978 - accuracy: 0.4889 - val_loss: 7.5180 - val_accuracy: 0.5068\n",
      "Epoch 7/20\n",
      "1/1 [==============================] - 0s 48ms/step - loss: 7.7978 - accuracy: 0.4889 - val_loss: 7.5180 - val_accuracy: 0.5068\n",
      "Epoch 8/20\n",
      "1/1 [==============================] - 0s 50ms/step - loss: 7.7978 - accuracy: 0.4889 - val_loss: 7.5180 - val_accuracy: 0.5068\n",
      "Epoch 9/20\n",
      "1/1 [==============================] - 0s 52ms/step - loss: 7.7978 - accuracy: 0.4889 - val_loss: 7.5180 - val_accuracy: 0.5068\n",
      "Epoch 10/20\n",
      "1/1 [==============================] - 0s 48ms/step - loss: 7.7978 - accuracy: 0.4889 - val_loss: 7.5180 - val_accuracy: 0.5068\n",
      "Epoch 11/20\n",
      "1/1 [==============================] - 0s 54ms/step - loss: 7.7978 - accuracy: 0.4889 - val_loss: 7.5180 - val_accuracy: 0.5068\n",
      "Epoch 12/20\n",
      "1/1 [==============================] - 0s 54ms/step - loss: 7.7978 - accuracy: 0.4889 - val_loss: 7.5180 - val_accuracy: 0.5068\n",
      "Epoch 13/20\n",
      "1/1 [==============================] - 0s 54ms/step - loss: 7.7978 - accuracy: 0.4889 - val_loss: 7.5180 - val_accuracy: 0.5068\n",
      "Epoch 14/20\n",
      "1/1 [==============================] - 0s 53ms/step - loss: 7.7978 - accuracy: 0.4889 - val_loss: 7.5180 - val_accuracy: 0.5068\n",
      "Epoch 15/20\n",
      "1/1 [==============================] - 0s 52ms/step - loss: 7.7978 - accuracy: 0.4889 - val_loss: 7.5180 - val_accuracy: 0.5068\n",
      "Epoch 16/20\n",
      "1/1 [==============================] - 0s 50ms/step - loss: 7.7978 - accuracy: 0.4889 - val_loss: 7.5180 - val_accuracy: 0.5068\n",
      "Epoch 17/20\n",
      "1/1 [==============================] - 0s 51ms/step - loss: 7.7978 - accuracy: 0.4889 - val_loss: 7.5180 - val_accuracy: 0.5068\n",
      "Epoch 18/20\n",
      "1/1 [==============================] - 0s 52ms/step - loss: 7.7978 - accuracy: 0.4889 - val_loss: 7.5180 - val_accuracy: 0.5068\n",
      "Epoch 19/20\n",
      "1/1 [==============================] - 0s 54ms/step - loss: 7.7978 - accuracy: 0.4889 - val_loss: 7.5180 - val_accuracy: 0.5068\n",
      "Epoch 20/20\n",
      "1/1 [==============================] - 0s 53ms/step - loss: 7.7978 - accuracy: 0.4889 - val_loss: 7.5180 - val_accuracy: 0.5068\n"
     ]
    },
    {
     "data": {
      "text/plain": [
       "<keras.src.callbacks.History at 0x7aeb244df8b0>"
      ]
     },
     "execution_count": 4,
     "metadata": {},
     "output_type": "execute_result"
    }
   ],
   "source": [
    "model_1 = Sequential([\n",
    "    Flatten(input_shape=(28, 28)),\n",
    "    Dense(1)\n",
    "])\n",
    "\n",
    "print(model_1.summary())\n",
    "\n",
    "model_1.compile(loss='binary_crossentropy', metrics=['accuracy'])\n",
    "model_1.fit(x_train, y_train_binary, epochs=20, batch_size=2000, validation_split=0.9)"
   ]
  },
  {
   "cell_type": "code",
   "execution_count": 5,
   "id": "47da0972",
   "metadata": {
    "execution": {
     "iopub.execute_input": "2024-02-14T02:27:37.858213Z",
     "iopub.status.busy": "2024-02-14T02:27:37.857736Z",
     "iopub.status.idle": "2024-02-14T02:27:38.099191Z",
     "shell.execute_reply": "2024-02-14T02:27:38.097671Z"
    },
    "papermill": {
     "duration": 0.262845,
     "end_time": "2024-02-14T02:27:38.102064",
     "exception": false,
     "start_time": "2024-02-14T02:27:37.839219",
     "status": "completed"
    },
    "tags": []
   },
   "outputs": [
    {
     "name": "stdout",
     "output_type": "stream",
     "text": [
      "56/56 [==============================] - 0s 2ms/step\n",
      "Matriz de confusión:\n",
      "[[ 33 859]\n",
      " [ 46 846]]\n",
      "Precision_1: 0.4961876832844575\n",
      "Recall_1: 0.9484304932735426\n",
      "F1-score_1: 0.6515209857527917\n",
      "Precision_0: 0.4177215189873418\n",
      "Recall_0: 0.03699551569506727\n",
      "F1-score_0: 0.06797116374871268\n"
     ]
    }
   ],
   "source": [
    "y_pred_1 = (model_1.predict(x_test) >= 0.5).astype(int)[:,0]\n",
    "conf_matrix = confusion_matrix(y_test_binary, y_pred_1)\n",
    "print(\"Matriz de confusión:\")\n",
    "print(conf_matrix)\n",
    "\n",
    "precision = precision_score(y_test_binary, y_pred_1)\n",
    "print(\"Precision_1:\", precision)\n",
    "recall = recall_score(y_test_binary, y_pred_1)\n",
    "print(\"Recall_1:\", recall)\n",
    "f1_s = f1_score(y_test_binary, y_pred_1)\n",
    "print(\"F1-score_1:\", f1_s)\n",
    "\n",
    "\n",
    "precision_0 = precision_score(y_test_binary, y_pred_1, pos_label=0)\n",
    "print(\"Precision_0:\", precision_0)\n",
    "recall_0 = recall_score(y_test_binary, y_pred_1, pos_label=0)\n",
    "print(\"Recall_0:\", recall_0)\n",
    "f1_s_0 = f1_score(y_test_binary, y_pred_1, pos_label=0)\n",
    "print(\"F1-score_0:\", f1_s_0)"
   ]
  },
  {
   "cell_type": "markdown",
   "id": "a651832b",
   "metadata": {
    "execution": {
     "iopub.execute_input": "2024-02-14T01:59:38.416813Z",
     "iopub.status.busy": "2024-02-14T01:59:38.416400Z",
     "iopub.status.idle": "2024-02-14T01:59:38.423415Z",
     "shell.execute_reply": "2024-02-14T01:59:38.422037Z",
     "shell.execute_reply.started": "2024-02-14T01:59:38.416783Z"
    },
    "papermill": {
     "duration": 0.01784,
     "end_time": "2024-02-14T02:27:38.137973",
     "exception": false,
     "start_time": "2024-02-14T02:27:38.120133",
     "status": "completed"
    },
    "tags": []
   },
   "source": [
    "# 3\n",
    "`epochs`           = 4\n",
    "\n",
    "`batch size`       = 2\n",
    "\n",
    "`validation split` = 0.9"
   ]
  },
  {
   "cell_type": "code",
   "execution_count": 6,
   "id": "698c3a11",
   "metadata": {
    "execution": {
     "iopub.execute_input": "2024-02-14T02:27:38.174483Z",
     "iopub.status.busy": "2024-02-14T02:27:38.173627Z",
     "iopub.status.idle": "2024-02-14T02:28:05.201946Z",
     "shell.execute_reply": "2024-02-14T02:28:05.200782Z"
    },
    "papermill": {
     "duration": 27.049544,
     "end_time": "2024-02-14T02:28:05.204601",
     "exception": false,
     "start_time": "2024-02-14T02:27:38.155057",
     "status": "completed"
    },
    "tags": []
   },
   "outputs": [
    {
     "name": "stdout",
     "output_type": "stream",
     "text": [
      "Model: \"sequential_2\"\n",
      "_________________________________________________________________\n",
      " Layer (type)                Output Shape              Param #   \n",
      "=================================================================\n",
      " flatten_2 (Flatten)         (None, 784)               0         \n",
      "                                                                 \n",
      " dense_2 (Dense)             (None, 1)                 785       \n",
      "                                                                 \n",
      "=================================================================\n",
      "Total params: 785 (3.07 KB)\n",
      "Trainable params: 785 (3.07 KB)\n",
      "Non-trainable params: 0 (0.00 Byte)\n",
      "_________________________________________________________________\n",
      "None\n",
      "Epoch 1/4\n",
      "542/542 [==============================] - 7s 13ms/step - loss: 4.7999 - accuracy: 0.6854 - val_loss: 5.5211 - val_accuracy: 0.6388\n",
      "Epoch 2/4\n",
      "542/542 [==============================] - 7s 12ms/step - loss: 4.5746 - accuracy: 0.7002 - val_loss: 5.3129 - val_accuracy: 0.6536\n",
      "Epoch 3/4\n",
      "542/542 [==============================] - 7s 12ms/step - loss: 5.0632 - accuracy: 0.6688 - val_loss: 4.9511 - val_accuracy: 0.6772\n",
      "Epoch 4/4\n",
      "542/542 [==============================] - 7s 12ms/step - loss: 4.4768 - accuracy: 0.7057 - val_loss: 4.7149 - val_accuracy: 0.6901\n"
     ]
    },
    {
     "data": {
      "text/plain": [
       "<keras.src.callbacks.History at 0x7aeb241eeef0>"
      ]
     },
     "execution_count": 6,
     "metadata": {},
     "output_type": "execute_result"
    }
   ],
   "source": [
    "model_2 = Sequential([\n",
    "    Flatten(input_shape=(28, 28)),\n",
    "    Dense(1)\n",
    "])\n",
    "\n",
    "print(model_2.summary())\n",
    "\n",
    "model_2.compile(loss='binary_crossentropy', metrics=['accuracy'])\n",
    "model_2.fit(x_train, y_train_binary, epochs=4, batch_size=2, validation_split=0.9)"
   ]
  },
  {
   "cell_type": "code",
   "execution_count": 7,
   "id": "45066039",
   "metadata": {
    "execution": {
     "iopub.execute_input": "2024-02-14T02:28:05.259905Z",
     "iopub.status.busy": "2024-02-14T02:28:05.259481Z",
     "iopub.status.idle": "2024-02-14T02:28:05.492889Z",
     "shell.execute_reply": "2024-02-14T02:28:05.490978Z"
    },
    "papermill": {
     "duration": 0.263241,
     "end_time": "2024-02-14T02:28:05.495369",
     "exception": false,
     "start_time": "2024-02-14T02:28:05.232128",
     "status": "completed"
    },
    "tags": []
   },
   "outputs": [
    {
     "name": "stdout",
     "output_type": "stream",
     "text": [
      "56/56 [==============================] - 0s 2ms/step\n",
      "Matriz de confusión:\n",
      "[[477 415]\n",
      " [105 787]]\n",
      "Precision_1: 0.6547420965058236\n",
      "Recall_1: 0.8822869955156951\n",
      "F1-score_1: 0.7516714422158548\n",
      "Precision_0: 0.8195876288659794\n",
      "Recall_0: 0.5347533632286996\n",
      "F1-score_0: 0.6472184531886025\n"
     ]
    }
   ],
   "source": [
    "y_pred_2 = (model_2.predict(x_test) >= 0.5).astype(int)[:,0]\n",
    "conf_matrix = confusion_matrix(y_test_binary, y_pred_2)\n",
    "print(\"Matriz de confusión:\")\n",
    "print(conf_matrix)\n",
    "\n",
    "precision = precision_score(y_test_binary, y_pred_2)\n",
    "print(\"Precision_1:\", precision)\n",
    "recall = recall_score(y_test_binary, y_pred_2)\n",
    "print(\"Recall_1:\", recall)\n",
    "f1_s = f1_score(y_test_binary, y_pred_2)\n",
    "print(\"F1-score_1:\", f1_s)\n",
    "\n",
    "\n",
    "precision_0 = precision_score(y_test_binary, y_pred_2, pos_label=0)\n",
    "print(\"Precision_0:\", precision_0)\n",
    "recall_0 = recall_score(y_test_binary, y_pred_2, pos_label=0)\n",
    "print(\"Recall_0:\", recall_0)\n",
    "f1_s_0 = f1_score(y_test_binary, y_pred_2, pos_label=0)\n",
    "print(\"F1-score_0:\", f1_s_0)"
   ]
  },
  {
   "cell_type": "markdown",
   "id": "a7bfb328",
   "metadata": {
    "papermill": {
     "duration": 0.02624,
     "end_time": "2024-02-14T02:28:05.547823",
     "exception": false,
     "start_time": "2024-02-14T02:28:05.521583",
     "status": "completed"
    },
    "tags": []
   },
   "source": [
    "# 4\n",
    "`epochs`           = 4\n",
    "\n",
    "`batch size`       = 2000\n",
    "\n",
    "`validation split` = 0.01"
   ]
  },
  {
   "cell_type": "code",
   "execution_count": 8,
   "id": "caa4b67d",
   "metadata": {
    "execution": {
     "iopub.execute_input": "2024-02-14T02:28:05.603648Z",
     "iopub.status.busy": "2024-02-14T02:28:05.603269Z",
     "iopub.status.idle": "2024-02-14T02:28:06.801280Z",
     "shell.execute_reply": "2024-02-14T02:28:06.800133Z"
    },
    "papermill": {
     "duration": 1.228283,
     "end_time": "2024-02-14T02:28:06.803965",
     "exception": false,
     "start_time": "2024-02-14T02:28:05.575682",
     "status": "completed"
    },
    "tags": []
   },
   "outputs": [
    {
     "name": "stdout",
     "output_type": "stream",
     "text": [
      "Model: \"sequential_3\"\n",
      "_________________________________________________________________\n",
      " Layer (type)                Output Shape              Param #   \n",
      "=================================================================\n",
      " flatten_3 (Flatten)         (None, 784)               0         \n",
      "                                                                 \n",
      " dense_3 (Dense)             (None, 1)                 785       \n",
      "                                                                 \n",
      "=================================================================\n",
      "Total params: 785 (3.07 KB)\n",
      "Trainable params: 785 (3.07 KB)\n",
      "Non-trainable params: 0 (0.00 Byte)\n",
      "_________________________________________________________________\n",
      "None\n",
      "Epoch 1/4\n",
      "6/6 [==============================] - 1s 41ms/step - loss: 7.5824 - accuracy: 0.5027 - val_loss: 7.5595 - val_accuracy: 0.5046\n",
      "Epoch 2/4\n",
      "6/6 [==============================] - 0s 10ms/step - loss: 7.2490 - accuracy: 0.5240 - val_loss: 7.4228 - val_accuracy: 0.5138\n",
      "Epoch 3/4\n",
      "6/6 [==============================] - 0s 9ms/step - loss: 7.0015 - accuracy: 0.5403 - val_loss: 7.2797 - val_accuracy: 0.5229\n",
      "Epoch 4/4\n",
      "6/6 [==============================] - 0s 9ms/step - loss: 6.8094 - accuracy: 0.5531 - val_loss: 7.4290 - val_accuracy: 0.5046\n"
     ]
    },
    {
     "data": {
      "text/plain": [
       "<keras.src.callbacks.History at 0x7aeaec717be0>"
      ]
     },
     "execution_count": 8,
     "metadata": {},
     "output_type": "execute_result"
    }
   ],
   "source": [
    "model_3 = Sequential([\n",
    "    Flatten(input_shape=(28, 28)),\n",
    "    Dense(1)\n",
    "])\n",
    "\n",
    "print(model_3.summary())\n",
    "\n",
    "model_3.compile(loss='binary_crossentropy', metrics=['accuracy'])\n",
    "model_3.fit(x_train, y_train_binary, epochs=4, batch_size=2000, validation_split=0.01)"
   ]
  },
  {
   "cell_type": "code",
   "execution_count": 9,
   "id": "aef4175a",
   "metadata": {
    "execution": {
     "iopub.execute_input": "2024-02-14T02:28:06.863432Z",
     "iopub.status.busy": "2024-02-14T02:28:06.862979Z",
     "iopub.status.idle": "2024-02-14T02:28:07.087360Z",
     "shell.execute_reply": "2024-02-14T02:28:07.086236Z"
    },
    "papermill": {
     "duration": 0.257175,
     "end_time": "2024-02-14T02:28:07.089969",
     "exception": false,
     "start_time": "2024-02-14T02:28:06.832794",
     "status": "completed"
    },
    "tags": []
   },
   "outputs": [
    {
     "name": "stdout",
     "output_type": "stream",
     "text": [
      "56/56 [==============================] - 0s 1ms/step\n",
      "Matriz de confusión:\n",
      "[[123 769]\n",
      " [ 39 853]]\n",
      "Precision_1: 0.5258939580764488\n",
      "Recall_1: 0.9562780269058296\n",
      "F1-score_1: 0.6785998408910103\n",
      "Precision_0: 0.7592592592592593\n",
      "Recall_0: 0.13789237668161436\n",
      "F1-score_0: 0.23339658444022773\n"
     ]
    }
   ],
   "source": [
    "y_pred_3 = (model_3.predict(x_test) >= 0.5).astype(int)[:,0]\n",
    "conf_matrix = confusion_matrix(y_test_binary, y_pred_3)\n",
    "print(\"Matriz de confusión:\")\n",
    "print(conf_matrix)\n",
    "\n",
    "precision = precision_score(y_test_binary, y_pred_3)\n",
    "print(\"Precision_1:\", precision)\n",
    "recall = recall_score(y_test_binary, y_pred_3)\n",
    "print(\"Recall_1:\", recall)\n",
    "f1_s = f1_score(y_test_binary, y_pred_3)\n",
    "print(\"F1-score_1:\", f1_s)\n",
    "\n",
    "\n",
    "precision_0 = precision_score(y_test_binary, y_pred_3, pos_label=0)\n",
    "print(\"Precision_0:\", precision_0)\n",
    "recall_0 = recall_score(y_test_binary, y_pred_3, pos_label=0)\n",
    "print(\"Recall_0:\", recall_0)\n",
    "f1_s_0 = f1_score(y_test_binary, y_pred_3, pos_label=0)\n",
    "print(\"F1-score_0:\", f1_s_0)"
   ]
  },
  {
   "cell_type": "markdown",
   "id": "1a6c471f",
   "metadata": {
    "papermill": {
     "duration": 0.028678,
     "end_time": "2024-02-14T02:28:07.147757",
     "exception": false,
     "start_time": "2024-02-14T02:28:07.119079",
     "status": "completed"
    },
    "tags": []
   },
   "source": [
    "# 5 "
   ]
  },
  {
   "cell_type": "code",
   "execution_count": 10,
   "id": "0c49b884",
   "metadata": {
    "execution": {
     "iopub.execute_input": "2024-02-14T02:28:07.208725Z",
     "iopub.status.busy": "2024-02-14T02:28:07.207915Z",
     "iopub.status.idle": "2024-02-14T02:28:17.616249Z",
     "shell.execute_reply": "2024-02-14T02:28:17.614978Z"
    },
    "papermill": {
     "duration": 10.442267,
     "end_time": "2024-02-14T02:28:17.619585",
     "exception": false,
     "start_time": "2024-02-14T02:28:07.177318",
     "status": "completed"
    },
    "tags": []
   },
   "outputs": [
    {
     "name": "stdout",
     "output_type": "stream",
     "text": [
      "Model: \"sequential_4\"\n",
      "_________________________________________________________________\n",
      " Layer (type)                Output Shape              Param #   \n",
      "=================================================================\n",
      " flatten_4 (Flatten)         (None, 784)               0         \n",
      "                                                                 \n",
      " dense_4 (Dense)             (None, 1)                 785       \n",
      "                                                                 \n",
      "=================================================================\n",
      "Total params: 785 (3.07 KB)\n",
      "Trainable params: 785 (3.07 KB)\n",
      "Non-trainable params: 0 (0.00 Byte)\n",
      "_________________________________________________________________\n",
      "None\n",
      "Epoch 1/25\n",
      "136/136 [==============================] - 1s 4ms/step - loss: 7.1744 - accuracy: 0.5338 - val_loss: 5.9528 - val_accuracy: 0.6123\n",
      "Epoch 2/25\n",
      "136/136 [==============================] - 0s 3ms/step - loss: 5.1926 - accuracy: 0.6593 - val_loss: 5.0654 - val_accuracy: 0.6662\n",
      "Epoch 3/25\n",
      "136/136 [==============================] - 0s 3ms/step - loss: 4.2072 - accuracy: 0.7237 - val_loss: 3.4261 - val_accuracy: 0.7755\n",
      "Epoch 4/25\n",
      "136/136 [==============================] - 0s 3ms/step - loss: 3.5480 - accuracy: 0.7676 - val_loss: 4.5874 - val_accuracy: 0.7017\n",
      "Epoch 5/25\n",
      "136/136 [==============================] - 0s 3ms/step - loss: 3.3038 - accuracy: 0.7843 - val_loss: 2.6074 - val_accuracy: 0.8299\n",
      "Epoch 6/25\n",
      "136/136 [==============================] - 0s 2ms/step - loss: 2.9473 - accuracy: 0.8072 - val_loss: 3.8483 - val_accuracy: 0.7487\n",
      "Epoch 7/25\n",
      "136/136 [==============================] - 0s 3ms/step - loss: 2.8106 - accuracy: 0.8155 - val_loss: 2.3402 - val_accuracy: 0.8465\n",
      "Epoch 8/25\n",
      "136/136 [==============================] - 0s 3ms/step - loss: 2.4645 - accuracy: 0.8387 - val_loss: 2.4944 - val_accuracy: 0.8349\n",
      "Epoch 9/25\n",
      "136/136 [==============================] - 0s 3ms/step - loss: 2.4957 - accuracy: 0.8360 - val_loss: 2.0812 - val_accuracy: 0.8631\n",
      "Epoch 10/25\n",
      "136/136 [==============================] - 0s 3ms/step - loss: 2.2534 - accuracy: 0.8520 - val_loss: 2.2548 - val_accuracy: 0.8515\n",
      "Epoch 11/25\n",
      "136/136 [==============================] - 0s 3ms/step - loss: 2.2336 - accuracy: 0.8536 - val_loss: 2.6219 - val_accuracy: 0.8280\n",
      "Epoch 12/25\n",
      "136/136 [==============================] - 0s 3ms/step - loss: 2.2540 - accuracy: 0.8516 - val_loss: 2.1393 - val_accuracy: 0.8585\n",
      "Epoch 13/25\n",
      "136/136 [==============================] - 0s 3ms/step - loss: 2.6335 - accuracy: 0.8269 - val_loss: 1.8158 - val_accuracy: 0.8811\n",
      "Epoch 14/25\n",
      "136/136 [==============================] - 0s 3ms/step - loss: 2.1224 - accuracy: 0.8605 - val_loss: 2.1661 - val_accuracy: 0.8580\n",
      "Epoch 15/25\n",
      "136/136 [==============================] - 0s 3ms/step - loss: 2.0745 - accuracy: 0.8637 - val_loss: 1.9657 - val_accuracy: 0.8714\n",
      "Epoch 16/25\n",
      "136/136 [==============================] - 0s 3ms/step - loss: 1.9885 - accuracy: 0.8698 - val_loss: 1.6058 - val_accuracy: 0.8940\n",
      "Epoch 17/25\n",
      "136/136 [==============================] - 0s 3ms/step - loss: 1.8206 - accuracy: 0.8807 - val_loss: 1.5977 - val_accuracy: 0.8958\n",
      "Epoch 18/25\n",
      "136/136 [==============================] - 1s 4ms/step - loss: 1.8785 - accuracy: 0.8769 - val_loss: 1.6339 - val_accuracy: 0.8935\n",
      "Epoch 19/25\n",
      "136/136 [==============================] - 0s 4ms/step - loss: 1.7713 - accuracy: 0.8840 - val_loss: 2.3794 - val_accuracy: 0.8456\n",
      "Epoch 20/25\n",
      "136/136 [==============================] - 0s 3ms/step - loss: 2.6849 - accuracy: 0.8247 - val_loss: 2.8802 - val_accuracy: 0.8119\n",
      "Epoch 21/25\n",
      "136/136 [==============================] - 0s 3ms/step - loss: 2.2358 - accuracy: 0.8543 - val_loss: 1.9837 - val_accuracy: 0.8700\n",
      "Epoch 22/25\n",
      "136/136 [==============================] - 1s 4ms/step - loss: 1.7711 - accuracy: 0.8841 - val_loss: 1.6298 - val_accuracy: 0.8935\n",
      "Epoch 23/25\n",
      "136/136 [==============================] - 0s 3ms/step - loss: 1.9495 - accuracy: 0.8724 - val_loss: 1.8950 - val_accuracy: 0.8769\n",
      "Epoch 24/25\n",
      "136/136 [==============================] - 0s 3ms/step - loss: 1.8260 - accuracy: 0.8807 - val_loss: 1.4954 - val_accuracy: 0.9018\n",
      "Epoch 25/25\n",
      "136/136 [==============================] - 0s 3ms/step - loss: 1.6429 - accuracy: 0.8925 - val_loss: 1.4833 - val_accuracy: 0.9023\n"
     ]
    },
    {
     "data": {
      "text/plain": [
       "<keras.src.callbacks.History at 0x7aeaec703010>"
      ]
     },
     "execution_count": 10,
     "metadata": {},
     "output_type": "execute_result"
    }
   ],
   "source": [
    "model_4 = Sequential([\n",
    "    Flatten(input_shape=(28, 28)),\n",
    "    Dense(1)\n",
    "])\n",
    "\n",
    "print(model_4.summary())\n",
    "\n",
    "model_4.compile(loss='binary_crossentropy', metrics=['accuracy'])\n",
    "model_4.fit(x_train, y_train_binary, epochs=25, batch_size=64, validation_split=0.2)"
   ]
  },
  {
   "cell_type": "code",
   "execution_count": 11,
   "id": "67d13d2c",
   "metadata": {
    "execution": {
     "iopub.execute_input": "2024-02-14T02:28:17.724695Z",
     "iopub.status.busy": "2024-02-14T02:28:17.723453Z",
     "iopub.status.idle": "2024-02-14T02:28:17.966165Z",
     "shell.execute_reply": "2024-02-14T02:28:17.964481Z"
    },
    "papermill": {
     "duration": 0.298354,
     "end_time": "2024-02-14T02:28:17.969009",
     "exception": false,
     "start_time": "2024-02-14T02:28:17.670655",
     "status": "completed"
    },
    "tags": []
   },
   "outputs": [
    {
     "name": "stdout",
     "output_type": "stream",
     "text": [
      "56/56 [==============================] - 0s 1ms/step\n",
      "Matriz de confusión:\n",
      "[[810  82]\n",
      " [100 792]]\n",
      "Precision_1: 0.9061784897025171\n",
      "Recall_1: 0.8878923766816144\n",
      "F1-score_1: 0.8969422423556058\n",
      "Precision_0: 0.8901098901098901\n",
      "Recall_0: 0.9080717488789237\n",
      "F1-score_0: 0.8990011098779134\n"
     ]
    }
   ],
   "source": [
    "y_pred_4 = (model_4.predict(x_test) >= 0.5).astype(int)[:,0]\n",
    "conf_matrix = confusion_matrix(y_test_binary, y_pred_4)\n",
    "print(\"Matriz de confusión:\")\n",
    "print(conf_matrix)\n",
    "\n",
    "precision = precision_score(y_test_binary, y_pred_4)\n",
    "print(\"Precision_1:\", precision)\n",
    "recall = recall_score(y_test_binary, y_pred_4)\n",
    "print(\"Recall_1:\", recall)\n",
    "f1_s = f1_score(y_test_binary, y_pred_4)\n",
    "print(\"F1-score_1:\", f1_s)\n",
    "\n",
    "\n",
    "precision_0 = precision_score(y_test_binary, y_pred_4, pos_label=0)\n",
    "print(\"Precision_0:\", precision_0)\n",
    "recall_0 = recall_score(y_test_binary, y_pred_4, pos_label=0)\n",
    "print(\"Recall_0:\", recall_0)\n",
    "f1_s_0 = f1_score(y_test_binary, y_pred_4, pos_label=0)\n",
    "print(\"F1-score_0:\", f1_s_0)"
   ]
  }
 ],
 "metadata": {
  "colab": {
   "provenance": []
  },
  "kaggle": {
   "accelerator": "none",
   "dataSources": [],
   "dockerImageVersionId": 30646,
   "isGpuEnabled": false,
   "isInternetEnabled": true,
   "language": "python",
   "sourceType": "notebook"
  },
  "kernelspec": {
   "display_name": "Python 3",
   "language": "python",
   "name": "python3"
  },
  "language_info": {
   "codemirror_mode": {
    "name": "ipython",
    "version": 3
   },
   "file_extension": ".py",
   "mimetype": "text/x-python",
   "name": "python",
   "nbconvert_exporter": "python",
   "pygments_lexer": "ipython3",
   "version": "3.10.13"
  },
  "papermill": {
   "default_parameters": {},
   "duration": 69.257953,
   "end_time": "2024-02-14T02:28:20.406676",
   "environment_variables": {},
   "exception": null,
   "input_path": "__notebook__.ipynb",
   "output_path": "__notebook__.ipynb",
   "parameters": {},
   "start_time": "2024-02-14T02:27:11.148723",
   "version": "2.5.0"
  }
 },
 "nbformat": 4,
 "nbformat_minor": 5
}
