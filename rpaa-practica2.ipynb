{
 "cells": [
  {
   "cell_type": "code",
   "execution_count": 1,
   "id": "d83ff299",
   "metadata": {
    "execution": {
     "iopub.execute_input": "2024-02-14T02:21:48.171737Z",
     "iopub.status.busy": "2024-02-14T02:21:48.171394Z",
     "iopub.status.idle": "2024-02-14T02:22:05.172251Z",
     "shell.execute_reply": "2024-02-14T02:22:05.170653Z"
    },
    "id": "50CNad4MEsHq",
    "papermill": {
     "duration": 17.009531,
     "end_time": "2024-02-14T02:22:05.174959",
     "exception": false,
     "start_time": "2024-02-14T02:21:48.165428",
     "status": "completed"
    },
    "tags": []
   },
   "outputs": [
    {
     "name": "stderr",
     "output_type": "stream",
     "text": [
      "2024-02-14 02:21:50.482499: E external/local_xla/xla/stream_executor/cuda/cuda_dnn.cc:9261] Unable to register cuDNN factory: Attempting to register factory for plugin cuDNN when one has already been registered\n",
      "2024-02-14 02:21:50.482629: E external/local_xla/xla/stream_executor/cuda/cuda_fft.cc:607] Unable to register cuFFT factory: Attempting to register factory for plugin cuFFT when one has already been registered\n",
      "2024-02-14 02:21:50.658049: E external/local_xla/xla/stream_executor/cuda/cuda_blas.cc:1515] Unable to register cuBLAS factory: Attempting to register factory for plugin cuBLAS when one has already been registered\n"
     ]
    },
    {
     "name": "stdout",
     "output_type": "stream",
     "text": [
      "Downloading data from https://storage.googleapis.com/tensorflow/tf-keras-datasets/mnist.npz\n",
      "11490434/11490434 [==============================] - 1s 0us/step\n",
      "(10842, 28, 28)\n",
      "(1784, 28, 28)\n"
     ]
    }
   ],
   "source": [
    "from keras.datasets import mnist\n",
    "import numpy as np\n",
    "\n",
    "(x_train, y_train), (x_test, y_test) = mnist.load_data()\n",
    "\n",
    "# Se obtiene una muestra con igual número de: cincos vs no cincos\n",
    "# para el conjunto de entrenamiento y el de test\n",
    "idx_y_train_5 = np.where(y_train == 5)[0]\n",
    "idx_y_train_n5 = np.where(y_train != 5)[0]\n",
    "idx_y_train_n5 = np.random.choice(idx_y_train_n5, idx_y_train_5.shape[0], replace=False)\n",
    "\n",
    "idx_y_train = np.concatenate([idx_y_train_5, idx_y_train_n5])\n",
    "np.random.shuffle(idx_y_train)\n",
    "\n",
    "x_train = x_train[idx_y_train]\n",
    "y_train = y_train[idx_y_train]\n",
    "print(x_train.shape)\n",
    "\n",
    "idx_y_test_5 = np.where(y_test == 5)[0]\n",
    "idx_y_test_n5 = np.where(y_test != 5)[0]\n",
    "idx_y_test_n5 = np.random.choice(idx_y_test_n5, idx_y_test_5.shape[0], replace=False)\n",
    "\n",
    "idx_y_test = np.concatenate([idx_y_test_5, idx_y_test_n5])\n",
    "np.random.shuffle(idx_y_test)\n",
    "\n",
    "x_test = x_test[idx_y_test]\n",
    "y_test = y_test[idx_y_test]\n",
    "print(x_test.shape)\n",
    "\n",
    "y_train_binary = (y_train == 5).astype(int)\n",
    "y_test_binary = (y_test == 5).astype(int)"
   ]
  },
  {
   "cell_type": "markdown",
   "id": "1ad38697",
   "metadata": {
    "papermill": {
     "duration": 0.004558,
     "end_time": "2024-02-14T02:22:05.185057",
     "exception": false,
     "start_time": "2024-02-14T02:22:05.180499",
     "status": "completed"
    },
    "tags": []
   },
   "source": [
    "# 1\n",
    "`epochs`           = 4\n",
    "\n",
    "`batch size`       = 2000\n",
    "\n",
    "`validation split` = 0.9"
   ]
  },
  {
   "cell_type": "code",
   "execution_count": 2,
   "id": "26dbaab5",
   "metadata": {
    "execution": {
     "iopub.execute_input": "2024-02-14T02:22:05.196418Z",
     "iopub.status.busy": "2024-02-14T02:22:05.195837Z",
     "iopub.status.idle": "2024-02-14T02:22:06.262096Z",
     "shell.execute_reply": "2024-02-14T02:22:06.261390Z"
    },
    "id": "3aBy0CQvHcT9",
    "papermill": {
     "duration": 1.074522,
     "end_time": "2024-02-14T02:22:06.264380",
     "exception": false,
     "start_time": "2024-02-14T02:22:05.189858",
     "status": "completed"
    },
    "tags": []
   },
   "outputs": [
    {
     "name": "stdout",
     "output_type": "stream",
     "text": [
      "Model: \"sequential\"\n",
      "_________________________________________________________________\n",
      " Layer (type)                Output Shape              Param #   \n",
      "=================================================================\n",
      " flatten (Flatten)           (None, 784)               0         \n",
      "                                                                 \n",
      " dense (Dense)               (None, 1)                 785       \n",
      "                                                                 \n",
      "=================================================================\n",
      "Total params: 785 (3.07 KB)\n",
      "Trainable params: 785 (3.07 KB)\n",
      "Non-trainable params: 0 (0.00 Byte)\n",
      "_________________________________________________________________\n",
      "None\n",
      "Epoch 1/4\n",
      "1/1 [==============================] - 1s 675ms/step - loss: 6.8946 - accuracy: 0.5507 - val_loss: 7.3794 - val_accuracy: 0.5202\n",
      "Epoch 2/4\n",
      "1/1 [==============================] - 0s 50ms/step - loss: 6.8489 - accuracy: 0.5554 - val_loss: 7.3919 - val_accuracy: 0.5193\n",
      "Epoch 3/4\n",
      "1/1 [==============================] - 0s 41ms/step - loss: 6.9789 - accuracy: 0.5470 - val_loss: 7.2942 - val_accuracy: 0.5256\n",
      "Epoch 4/4\n",
      "1/1 [==============================] - 0s 43ms/step - loss: 6.8345 - accuracy: 0.5563 - val_loss: 7.2735 - val_accuracy: 0.5274\n"
     ]
    },
    {
     "data": {
      "text/plain": [
       "<keras.src.callbacks.History at 0x7c3f57fddc30>"
      ]
     },
     "execution_count": 2,
     "metadata": {},
     "output_type": "execute_result"
    }
   ],
   "source": [
    "from keras.models import Sequential\n",
    "from keras.layers import Flatten, Dense\n",
    "from keras.metrics import F1Score\n",
    "\n",
    "model = Sequential([\n",
    "    Flatten(input_shape=(28, 28)),\n",
    "    Dense(1)\n",
    "])\n",
    "\n",
    "print(model.summary())\n",
    "\n",
    "model.compile(loss='binary_crossentropy', metrics=['accuracy'])\n",
    "model.fit(x_train, y_train_binary, epochs=4, batch_size=2000, validation_split=0.9)"
   ]
  },
  {
   "cell_type": "code",
   "execution_count": 3,
   "id": "ddc2e626",
   "metadata": {
    "execution": {
     "iopub.execute_input": "2024-02-14T02:22:06.280283Z",
     "iopub.status.busy": "2024-02-14T02:22:06.279248Z",
     "iopub.status.idle": "2024-02-14T02:22:07.817710Z",
     "shell.execute_reply": "2024-02-14T02:22:07.816592Z"
    },
    "id": "Bcb43x96H6xD",
    "papermill": {
     "duration": 1.54857,
     "end_time": "2024-02-14T02:22:07.819486",
     "exception": false,
     "start_time": "2024-02-14T02:22:06.270916",
     "status": "completed"
    },
    "tags": []
   },
   "outputs": [
    {
     "name": "stdout",
     "output_type": "stream",
     "text": [
      "56/56 [==============================] - 0s 1ms/step\n",
      "Matriz de confusión:\n",
      "[[787 105]\n",
      " [765 127]]\n",
      "Precision_1: 0.5474137931034483\n",
      "Recall_1: 0.14237668161434977\n",
      "F1-score_1: 0.22597864768683273\n",
      "Precision_0: 0.5070876288659794\n",
      "Recall_0: 0.8822869955156951\n",
      "F1-score_0: 0.644026186579378\n"
     ]
    }
   ],
   "source": [
    "from sklearn.metrics import confusion_matrix, \\\n",
    "precision_score, recall_score,f1_score\n",
    "\n",
    "y_pred = (model.predict(x_test) >= 0.5).astype(int)[:,0]\n",
    "conf_matrix = confusion_matrix(y_test_binary, y_pred)\n",
    "print(\"Matriz de confusión:\")\n",
    "print(conf_matrix)\n",
    "\n",
    "precision = precision_score(y_test_binary, y_pred)\n",
    "print(\"Precision_1:\", precision)\n",
    "recall = recall_score(y_test_binary, y_pred)\n",
    "print(\"Recall_1:\", recall)\n",
    "f1_s = f1_score(y_test_binary, y_pred)\n",
    "print(\"F1-score_1:\", f1_s)\n",
    "\n",
    "\n",
    "precision_0 = precision_score(y_test_binary, y_pred, pos_label=0)\n",
    "print(\"Precision_0:\", precision_0)\n",
    "recall_0 = recall_score(y_test_binary, y_pred, pos_label=0)\n",
    "print(\"Recall_0:\", recall_0)\n",
    "f1_s_0 = f1_score(y_test_binary, y_pred, pos_label=0)\n",
    "print(\"F1-score_0:\", f1_s_0)"
   ]
  },
  {
   "cell_type": "markdown",
   "id": "6b9b1f74",
   "metadata": {
    "papermill": {
     "duration": 0.00612,
     "end_time": "2024-02-14T02:22:07.832167",
     "exception": false,
     "start_time": "2024-02-14T02:22:07.826047",
     "status": "completed"
    },
    "tags": []
   },
   "source": [
    "# 2\n",
    "`epochs`           = 20\n",
    "\n",
    "`batch size`       = 2000\n",
    "\n",
    "`validation split` = 0.9"
   ]
  },
  {
   "cell_type": "code",
   "execution_count": 4,
   "id": "570e304a",
   "metadata": {
    "execution": {
     "iopub.execute_input": "2024-02-14T02:22:07.846888Z",
     "iopub.status.busy": "2024-02-14T02:22:07.846568Z",
     "iopub.status.idle": "2024-02-14T02:22:09.317015Z",
     "shell.execute_reply": "2024-02-14T02:22:09.315698Z"
    },
    "papermill": {
     "duration": 1.481266,
     "end_time": "2024-02-14T02:22:09.319874",
     "exception": false,
     "start_time": "2024-02-14T02:22:07.838608",
     "status": "completed"
    },
    "tags": []
   },
   "outputs": [
    {
     "name": "stdout",
     "output_type": "stream",
     "text": [
      "Model: \"sequential_1\"\n",
      "_________________________________________________________________\n",
      " Layer (type)                Output Shape              Param #   \n",
      "=================================================================\n",
      " flatten_1 (Flatten)         (None, 784)               0         \n",
      "                                                                 \n",
      " dense_1 (Dense)             (None, 1)                 785       \n",
      "                                                                 \n",
      "=================================================================\n",
      "Total params: 785 (3.07 KB)\n",
      "Trainable params: 785 (3.07 KB)\n",
      "Non-trainable params: 0 (0.00 Byte)\n",
      "_________________________________________________________________\n",
      "None\n",
      "Epoch 1/20\n",
      "1/1 [==============================] - 1s 502ms/step - loss: 7.5965 - accuracy: 0.5055 - val_loss: 7.3991 - val_accuracy: 0.5185\n",
      "Epoch 2/20\n",
      "1/1 [==============================] - 0s 42ms/step - loss: 7.5277 - accuracy: 0.5101 - val_loss: 7.3385 - val_accuracy: 0.5226\n",
      "Epoch 3/20\n",
      "1/1 [==============================] - 0s 44ms/step - loss: 7.2965 - accuracy: 0.5240 - val_loss: 7.1004 - val_accuracy: 0.5377\n",
      "Epoch 4/20\n",
      "1/1 [==============================] - 0s 40ms/step - loss: 7.0660 - accuracy: 0.5378 - val_loss: 7.0607 - val_accuracy: 0.5391\n",
      "Epoch 5/20\n",
      "1/1 [==============================] - 0s 36ms/step - loss: 7.3767 - accuracy: 0.5194 - val_loss: 7.0607 - val_accuracy: 0.5391\n",
      "Epoch 6/20\n",
      "1/1 [==============================] - 0s 37ms/step - loss: 7.3767 - accuracy: 0.5194 - val_loss: 7.0607 - val_accuracy: 0.5391\n",
      "Epoch 7/20\n",
      "1/1 [==============================] - 0s 47ms/step - loss: 7.3767 - accuracy: 0.5194 - val_loss: 7.0607 - val_accuracy: 0.5391\n",
      "Epoch 8/20\n",
      "1/1 [==============================] - 0s 45ms/step - loss: 7.3767 - accuracy: 0.5194 - val_loss: 7.0607 - val_accuracy: 0.5391\n",
      "Epoch 9/20\n",
      "1/1 [==============================] - 0s 38ms/step - loss: 7.3767 - accuracy: 0.5194 - val_loss: 7.0607 - val_accuracy: 0.5391\n",
      "Epoch 10/20\n",
      "1/1 [==============================] - 0s 46ms/step - loss: 7.3767 - accuracy: 0.5194 - val_loss: 7.0607 - val_accuracy: 0.5391\n",
      "Epoch 11/20\n",
      "1/1 [==============================] - 0s 37ms/step - loss: 7.3767 - accuracy: 0.5194 - val_loss: 7.0607 - val_accuracy: 0.5391\n",
      "Epoch 12/20\n",
      "1/1 [==============================] - 0s 47ms/step - loss: 7.3767 - accuracy: 0.5194 - val_loss: 7.0607 - val_accuracy: 0.5391\n",
      "Epoch 13/20\n",
      "1/1 [==============================] - 0s 42ms/step - loss: 7.3767 - accuracy: 0.5194 - val_loss: 7.0607 - val_accuracy: 0.5391\n",
      "Epoch 14/20\n",
      "1/1 [==============================] - 0s 45ms/step - loss: 7.3767 - accuracy: 0.5194 - val_loss: 7.0607 - val_accuracy: 0.5391\n",
      "Epoch 15/20\n",
      "1/1 [==============================] - 0s 48ms/step - loss: 7.3767 - accuracy: 0.5194 - val_loss: 7.0607 - val_accuracy: 0.5391\n",
      "Epoch 16/20\n",
      "1/1 [==============================] - 0s 41ms/step - loss: 7.3767 - accuracy: 0.5194 - val_loss: 7.0607 - val_accuracy: 0.5391\n",
      "Epoch 17/20\n",
      "1/1 [==============================] - 0s 41ms/step - loss: 7.3767 - accuracy: 0.5194 - val_loss: 7.0607 - val_accuracy: 0.5391\n",
      "Epoch 18/20\n",
      "1/1 [==============================] - 0s 40ms/step - loss: 7.3767 - accuracy: 0.5194 - val_loss: 7.0607 - val_accuracy: 0.5391\n",
      "Epoch 19/20\n",
      "1/1 [==============================] - 0s 46ms/step - loss: 7.3767 - accuracy: 0.5194 - val_loss: 7.0607 - val_accuracy: 0.5391\n",
      "Epoch 20/20\n",
      "1/1 [==============================] - 0s 48ms/step - loss: 7.3767 - accuracy: 0.5194 - val_loss: 7.0607 - val_accuracy: 0.5391\n"
     ]
    },
    {
     "data": {
      "text/plain": [
       "<keras.src.callbacks.History at 0x7c3f4cac26e0>"
      ]
     },
     "execution_count": 4,
     "metadata": {},
     "output_type": "execute_result"
    }
   ],
   "source": [
    "model_1 = Sequential([\n",
    "    Flatten(input_shape=(28, 28)),\n",
    "    Dense(1)\n",
    "])\n",
    "\n",
    "print(model_1.summary())\n",
    "\n",
    "model_1.compile(loss='binary_crossentropy', metrics=['accuracy'])\n",
    "model_1.fit(x_train, y_train_binary, epochs=20, batch_size=2000, validation_split=0.9)"
   ]
  },
  {
   "cell_type": "code",
   "execution_count": 5,
   "id": "35c24377",
   "metadata": {
    "execution": {
     "iopub.execute_input": "2024-02-14T02:22:09.344743Z",
     "iopub.status.busy": "2024-02-14T02:22:09.344388Z",
     "iopub.status.idle": "2024-02-14T02:22:09.529249Z",
     "shell.execute_reply": "2024-02-14T02:22:09.527927Z"
    },
    "papermill": {
     "duration": 0.199016,
     "end_time": "2024-02-14T02:22:09.531172",
     "exception": false,
     "start_time": "2024-02-14T02:22:09.332156",
     "status": "completed"
    },
    "tags": []
   },
   "outputs": [
    {
     "name": "stdout",
     "output_type": "stream",
     "text": [
      "56/56 [==============================] - 0s 1ms/step\n",
      "Matriz de confusión:\n",
      "[[530 362]\n",
      " [500 392]]\n",
      "Precision_1: 0.519893899204244\n",
      "Recall_1: 0.43946188340807174\n",
      "F1-score_1: 0.4763061968408262\n",
      "Precision_0: 0.5145631067961165\n",
      "Recall_0: 0.594170403587444\n",
      "F1-score_0: 0.5515088449531738\n"
     ]
    }
   ],
   "source": [
    "y_pred_1 = (model_1.predict(x_test) >= 0.5).astype(int)[:,0]\n",
    "conf_matrix = confusion_matrix(y_test_binary, y_pred_1)\n",
    "print(\"Matriz de confusión:\")\n",
    "print(conf_matrix)\n",
    "\n",
    "precision = precision_score(y_test_binary, y_pred_1)\n",
    "print(\"Precision_1:\", precision)\n",
    "recall = recall_score(y_test_binary, y_pred_1)\n",
    "print(\"Recall_1:\", recall)\n",
    "f1_s = f1_score(y_test_binary, y_pred_1)\n",
    "print(\"F1-score_1:\", f1_s)\n",
    "\n",
    "\n",
    "precision_0 = precision_score(y_test_binary, y_pred_1, pos_label=0)\n",
    "print(\"Precision_0:\", precision_0)\n",
    "recall_0 = recall_score(y_test_binary, y_pred_1, pos_label=0)\n",
    "print(\"Recall_0:\", recall_0)\n",
    "f1_s_0 = f1_score(y_test_binary, y_pred_1, pos_label=0)\n",
    "print(\"F1-score_0:\", f1_s_0)"
   ]
  },
  {
   "cell_type": "markdown",
   "id": "35a6f487",
   "metadata": {
    "execution": {
     "iopub.execute_input": "2024-02-14T01:59:38.416813Z",
     "iopub.status.busy": "2024-02-14T01:59:38.416400Z",
     "iopub.status.idle": "2024-02-14T01:59:38.423415Z",
     "shell.execute_reply": "2024-02-14T01:59:38.422037Z",
     "shell.execute_reply.started": "2024-02-14T01:59:38.416783Z"
    },
    "papermill": {
     "duration": 0.012203,
     "end_time": "2024-02-14T02:22:09.554796",
     "exception": false,
     "start_time": "2024-02-14T02:22:09.542593",
     "status": "completed"
    },
    "tags": []
   },
   "source": [
    "# 3\n",
    "`epochs`           = 4\n",
    "\n",
    "`batch size`       = 2\n",
    "\n",
    "`validation split` = 0.9"
   ]
  },
  {
   "cell_type": "code",
   "execution_count": 6,
   "id": "8eefba12",
   "metadata": {
    "execution": {
     "iopub.execute_input": "2024-02-14T02:22:09.578702Z",
     "iopub.status.busy": "2024-02-14T02:22:09.578114Z",
     "iopub.status.idle": "2024-02-14T02:22:40.677229Z",
     "shell.execute_reply": "2024-02-14T02:22:40.676093Z"
    },
    "papermill": {
     "duration": 31.125193,
     "end_time": "2024-02-14T02:22:40.691144",
     "exception": false,
     "start_time": "2024-02-14T02:22:09.565951",
     "status": "completed"
    },
    "tags": []
   },
   "outputs": [
    {
     "name": "stdout",
     "output_type": "stream",
     "text": [
      "Model: \"sequential_2\"\n",
      "_________________________________________________________________\n",
      " Layer (type)                Output Shape              Param #   \n",
      "=================================================================\n",
      " flatten_2 (Flatten)         (None, 784)               0         \n",
      "                                                                 \n",
      " dense_2 (Dense)             (None, 1)                 785       \n",
      "                                                                 \n",
      "=================================================================\n",
      "Total params: 785 (3.07 KB)\n",
      "Trainable params: 785 (3.07 KB)\n",
      "Non-trainable params: 0 (0.00 Byte)\n",
      "_________________________________________________________________\n",
      "None\n",
      "Epoch 1/4\n",
      "542/542 [==============================] - 7s 12ms/step - loss: 5.8764 - accuracy: 0.6172 - val_loss: 5.3984 - val_accuracy: 0.6464\n",
      "Epoch 2/4\n",
      "542/542 [==============================] - 6s 12ms/step - loss: 5.5809 - accuracy: 0.6347 - val_loss: 6.2212 - val_accuracy: 0.5956\n",
      "Epoch 3/4\n",
      "542/542 [==============================] - 7s 13ms/step - loss: 5.7988 - accuracy: 0.6236 - val_loss: 5.9590 - val_accuracy: 0.6123\n",
      "Epoch 4/4\n",
      "542/542 [==============================] - 11s 20ms/step - loss: 5.7282 - accuracy: 0.6282 - val_loss: 5.9590 - val_accuracy: 0.6123\n"
     ]
    },
    {
     "data": {
      "text/plain": [
       "<keras.src.callbacks.History at 0x7c3f588787f0>"
      ]
     },
     "execution_count": 6,
     "metadata": {},
     "output_type": "execute_result"
    }
   ],
   "source": [
    "model_2 = Sequential([\n",
    "    Flatten(input_shape=(28, 28)),\n",
    "    Dense(1)\n",
    "])\n",
    "\n",
    "print(model_2.summary())\n",
    "\n",
    "model_2.compile(loss='binary_crossentropy', metrics=['accuracy'])\n",
    "model_2.fit(x_train, y_train_binary, epochs=4, batch_size=2, validation_split=0.9)"
   ]
  },
  {
   "cell_type": "code",
   "execution_count": 7,
   "id": "d766c75f",
   "metadata": {
    "execution": {
     "iopub.execute_input": "2024-02-14T02:22:40.725367Z",
     "iopub.status.busy": "2024-02-14T02:22:40.725017Z",
     "iopub.status.idle": "2024-02-14T02:22:40.916584Z",
     "shell.execute_reply": "2024-02-14T02:22:40.915081Z"
    },
    "papermill": {
     "duration": 0.211069,
     "end_time": "2024-02-14T02:22:40.918464",
     "exception": false,
     "start_time": "2024-02-14T02:22:40.707395",
     "status": "completed"
    },
    "tags": []
   },
   "outputs": [
    {
     "name": "stdout",
     "output_type": "stream",
     "text": [
      "56/56 [==============================] - 0s 1ms/step\n",
      "Matriz de confusión:\n",
      "[[832  60]\n",
      " [620 272]]\n",
      "Precision_1: 0.8192771084337349\n",
      "Recall_1: 0.30493273542600896\n",
      "F1-score_1: 0.4444444444444444\n",
      "Precision_0: 0.5730027548209367\n",
      "Recall_0: 0.9327354260089686\n",
      "F1-score_0: 0.7098976109215018\n"
     ]
    }
   ],
   "source": [
    "y_pred_2 = (model_2.predict(x_test) >= 0.5).astype(int)[:,0]\n",
    "conf_matrix = confusion_matrix(y_test_binary, y_pred_2)\n",
    "print(\"Matriz de confusión:\")\n",
    "print(conf_matrix)\n",
    "\n",
    "precision = precision_score(y_test_binary, y_pred_2)\n",
    "print(\"Precision_1:\", precision)\n",
    "recall = recall_score(y_test_binary, y_pred_2)\n",
    "print(\"Recall_1:\", recall)\n",
    "f1_s = f1_score(y_test_binary, y_pred_2)\n",
    "print(\"F1-score_1:\", f1_s)\n",
    "\n",
    "\n",
    "precision_0 = precision_score(y_test_binary, y_pred_2, pos_label=0)\n",
    "print(\"Precision_0:\", precision_0)\n",
    "recall_0 = recall_score(y_test_binary, y_pred_2, pos_label=0)\n",
    "print(\"Recall_0:\", recall_0)\n",
    "f1_s_0 = f1_score(y_test_binary, y_pred_2, pos_label=0)\n",
    "print(\"F1-score_0:\", f1_s_0)"
   ]
  },
  {
   "cell_type": "markdown",
   "id": "3f3c3379",
   "metadata": {
    "papermill": {
     "duration": 0.016078,
     "end_time": "2024-02-14T02:22:40.951141",
     "exception": false,
     "start_time": "2024-02-14T02:22:40.935063",
     "status": "completed"
    },
    "tags": []
   },
   "source": [
    "# 4\n",
    "`epochs`           = 4\n",
    "\n",
    "`batch size`       = 2000\n",
    "\n",
    "`validation split` = 0.01"
   ]
  },
  {
   "cell_type": "code",
   "execution_count": 8,
   "id": "b5cfdf32",
   "metadata": {
    "execution": {
     "iopub.execute_input": "2024-02-14T02:22:40.985909Z",
     "iopub.status.busy": "2024-02-14T02:22:40.985379Z",
     "iopub.status.idle": "2024-02-14T02:22:42.063465Z",
     "shell.execute_reply": "2024-02-14T02:22:42.061789Z"
    },
    "papermill": {
     "duration": 1.098476,
     "end_time": "2024-02-14T02:22:42.066097",
     "exception": false,
     "start_time": "2024-02-14T02:22:40.967621",
     "status": "completed"
    },
    "tags": []
   },
   "outputs": [
    {
     "name": "stdout",
     "output_type": "stream",
     "text": [
      "Model: \"sequential_3\"\n",
      "_________________________________________________________________\n",
      " Layer (type)                Output Shape              Param #   \n",
      "=================================================================\n",
      " flatten_3 (Flatten)         (None, 784)               0         \n",
      "                                                                 \n",
      " dense_3 (Dense)             (None, 1)                 785       \n",
      "                                                                 \n",
      "=================================================================\n",
      "Total params: 785 (3.07 KB)\n",
      "Trainable params: 785 (3.07 KB)\n",
      "Non-trainable params: 0 (0.00 Byte)\n",
      "_________________________________________________________________\n",
      "None\n",
      "Epoch 1/4\n",
      "6/6 [==============================] - 1s 33ms/step - loss: 7.2137 - accuracy: 0.5270 - val_loss: 6.4371 - val_accuracy: 0.5780\n",
      "Epoch 2/4\n",
      "6/6 [==============================] - 0s 8ms/step - loss: 6.7662 - accuracy: 0.5553 - val_loss: 6.2972 - val_accuracy: 0.5872\n",
      "Epoch 3/4\n",
      "6/6 [==============================] - 0s 8ms/step - loss: 6.2489 - accuracy: 0.5899 - val_loss: 6.3197 - val_accuracy: 0.5872\n",
      "Epoch 4/4\n",
      "6/6 [==============================] - 0s 8ms/step - loss: 6.1293 - accuracy: 0.5978 - val_loss: 6.3230 - val_accuracy: 0.5872\n"
     ]
    },
    {
     "data": {
      "text/plain": [
       "<keras.src.callbacks.History at 0x7c3f4c4eb190>"
      ]
     },
     "execution_count": 8,
     "metadata": {},
     "output_type": "execute_result"
    }
   ],
   "source": [
    "model_3 = Sequential([\n",
    "    Flatten(input_shape=(28, 28)),\n",
    "    Dense(1)\n",
    "])\n",
    "\n",
    "print(model_3.summary())\n",
    "\n",
    "model_3.compile(loss='binary_crossentropy', metrics=['accuracy'])\n",
    "model_3.fit(x_train, y_train_binary, epochs=4, batch_size=2000, validation_split=0.01)"
   ]
  },
  {
   "cell_type": "code",
   "execution_count": 9,
   "id": "601a6888",
   "metadata": {
    "execution": {
     "iopub.execute_input": "2024-02-14T02:22:42.105817Z",
     "iopub.status.busy": "2024-02-14T02:22:42.105477Z",
     "iopub.status.idle": "2024-02-14T02:22:42.296235Z",
     "shell.execute_reply": "2024-02-14T02:22:42.295354Z"
    },
    "papermill": {
     "duration": 0.2136,
     "end_time": "2024-02-14T02:22:42.298632",
     "exception": false,
     "start_time": "2024-02-14T02:22:42.085032",
     "status": "completed"
    },
    "tags": []
   },
   "outputs": [
    {
     "name": "stdout",
     "output_type": "stream",
     "text": [
      "56/56 [==============================] - 0s 1ms/step\n",
      "Matriz de confusión:\n",
      "[[486 406]\n",
      " [250 642]]\n",
      "Precision_1: 0.6125954198473282\n",
      "Recall_1: 0.7197309417040358\n",
      "F1-score_1: 0.6618556701030928\n",
      "Precision_0: 0.6603260869565217\n",
      "Recall_0: 0.5448430493273543\n",
      "F1-score_0: 0.5970515970515972\n"
     ]
    }
   ],
   "source": [
    "y_pred_3 = (model_3.predict(x_test) >= 0.5).astype(int)[:,0]\n",
    "conf_matrix = confusion_matrix(y_test_binary, y_pred_3)\n",
    "print(\"Matriz de confusión:\")\n",
    "print(conf_matrix)\n",
    "\n",
    "precision = precision_score(y_test_binary, y_pred_3)\n",
    "print(\"Precision_1:\", precision)\n",
    "recall = recall_score(y_test_binary, y_pred_3)\n",
    "print(\"Recall_1:\", recall)\n",
    "f1_s = f1_score(y_test_binary, y_pred_3)\n",
    "print(\"F1-score_1:\", f1_s)\n",
    "\n",
    "\n",
    "precision_0 = precision_score(y_test_binary, y_pred_3, pos_label=0)\n",
    "print(\"Precision_0:\", precision_0)\n",
    "recall_0 = recall_score(y_test_binary, y_pred_3, pos_label=0)\n",
    "print(\"Recall_0:\", recall_0)\n",
    "f1_s_0 = f1_score(y_test_binary, y_pred_3, pos_label=0)\n",
    "print(\"F1-score_0:\", f1_s_0)"
   ]
  },
  {
   "cell_type": "markdown",
   "id": "85c3fc3e",
   "metadata": {
    "papermill": {
     "duration": 0.018492,
     "end_time": "2024-02-14T02:22:42.336190",
     "exception": false,
     "start_time": "2024-02-14T02:22:42.317698",
     "status": "completed"
    },
    "tags": []
   },
   "source": [
    "# 5 "
   ]
  },
  {
   "cell_type": "code",
   "execution_count": 10,
   "id": "67e0a01c",
   "metadata": {
    "execution": {
     "iopub.execute_input": "2024-02-14T02:22:42.375995Z",
     "iopub.status.busy": "2024-02-14T02:22:42.375585Z",
     "iopub.status.idle": "2024-02-14T02:22:51.620118Z",
     "shell.execute_reply": "2024-02-14T02:22:51.618805Z"
    },
    "papermill": {
     "duration": 9.266385,
     "end_time": "2024-02-14T02:22:51.622097",
     "exception": false,
     "start_time": "2024-02-14T02:22:42.355712",
     "status": "completed"
    },
    "tags": []
   },
   "outputs": [
    {
     "name": "stdout",
     "output_type": "stream",
     "text": [
      "Model: \"sequential_4\"\n",
      "_________________________________________________________________\n",
      " Layer (type)                Output Shape              Param #   \n",
      "=================================================================\n",
      " flatten_4 (Flatten)         (None, 784)               0         \n",
      "                                                                 \n",
      " dense_4 (Dense)             (None, 1)                 785       \n",
      "                                                                 \n",
      "=================================================================\n",
      "Total params: 785 (3.07 KB)\n",
      "Trainable params: 785 (3.07 KB)\n",
      "Non-trainable params: 0 (0.00 Byte)\n",
      "_________________________________________________________________\n",
      "None\n",
      "Epoch 1/25\n",
      "136/136 [==============================] - 1s 3ms/step - loss: 6.1304 - accuracy: 0.5984 - val_loss: 5.3300 - val_accuracy: 0.6501\n",
      "Epoch 2/25\n",
      "136/136 [==============================] - 0s 3ms/step - loss: 4.7486 - accuracy: 0.6897 - val_loss: 4.6297 - val_accuracy: 0.6985\n",
      "Epoch 3/25\n",
      "136/136 [==============================] - 0s 2ms/step - loss: 4.1117 - accuracy: 0.7318 - val_loss: 3.8071 - val_accuracy: 0.7520\n",
      "Epoch 4/25\n",
      "136/136 [==============================] - 0s 2ms/step - loss: 3.5801 - accuracy: 0.7654 - val_loss: 3.7231 - val_accuracy: 0.7570\n",
      "Epoch 5/25\n",
      "136/136 [==============================] - 0s 3ms/step - loss: 3.1903 - accuracy: 0.7912 - val_loss: 3.2507 - val_accuracy: 0.7884\n",
      "Epoch 6/25\n",
      "136/136 [==============================] - 0s 2ms/step - loss: 2.9419 - accuracy: 0.8083 - val_loss: 2.8706 - val_accuracy: 0.8128\n",
      "Epoch 7/25\n",
      "136/136 [==============================] - 0s 3ms/step - loss: 2.8729 - accuracy: 0.8124 - val_loss: 2.7068 - val_accuracy: 0.8234\n",
      "Epoch 8/25\n",
      "136/136 [==============================] - 0s 2ms/step - loss: 2.8256 - accuracy: 0.8155 - val_loss: 3.1464 - val_accuracy: 0.7953\n",
      "Epoch 9/25\n",
      "136/136 [==============================] - 0s 3ms/step - loss: 2.8283 - accuracy: 0.8153 - val_loss: 3.0707 - val_accuracy: 0.7999\n",
      "Epoch 10/25\n",
      "136/136 [==============================] - 0s 3ms/step - loss: 2.6466 - accuracy: 0.8275 - val_loss: 3.2398 - val_accuracy: 0.7898\n",
      "Epoch 11/25\n",
      "136/136 [==============================] - 0s 2ms/step - loss: 2.7618 - accuracy: 0.8196 - val_loss: 2.7614 - val_accuracy: 0.8197\n",
      "Epoch 12/25\n",
      "136/136 [==============================] - 0s 3ms/step - loss: 2.6334 - accuracy: 0.8277 - val_loss: 2.5598 - val_accuracy: 0.8331\n",
      "Epoch 13/25\n",
      "136/136 [==============================] - 0s 3ms/step - loss: 2.3539 - accuracy: 0.8464 - val_loss: 2.6497 - val_accuracy: 0.8276\n",
      "Epoch 14/25\n",
      "136/136 [==============================] - 0s 2ms/step - loss: 2.2866 - accuracy: 0.8502 - val_loss: 2.2978 - val_accuracy: 0.8497\n",
      "Epoch 15/25\n",
      "136/136 [==============================] - 0s 2ms/step - loss: 2.1990 - accuracy: 0.8558 - val_loss: 2.0141 - val_accuracy: 0.8681\n",
      "Epoch 16/25\n",
      "136/136 [==============================] - 0s 3ms/step - loss: 2.1557 - accuracy: 0.8584 - val_loss: 2.0815 - val_accuracy: 0.8645\n",
      "Epoch 17/25\n",
      "136/136 [==============================] - 0s 2ms/step - loss: 2.0482 - accuracy: 0.8658 - val_loss: 2.2520 - val_accuracy: 0.8525\n",
      "Epoch 18/25\n",
      "136/136 [==============================] - 0s 2ms/step - loss: 1.9678 - accuracy: 0.8717 - val_loss: 2.1298 - val_accuracy: 0.8608\n",
      "Epoch 19/25\n",
      "136/136 [==============================] - 0s 3ms/step - loss: 1.9702 - accuracy: 0.8704 - val_loss: 2.3699 - val_accuracy: 0.8446\n",
      "Epoch 20/25\n",
      "136/136 [==============================] - 0s 3ms/step - loss: 2.0931 - accuracy: 0.8628 - val_loss: 2.0285 - val_accuracy: 0.8672\n",
      "Epoch 21/25\n",
      "136/136 [==============================] - 0s 3ms/step - loss: 1.9712 - accuracy: 0.8712 - val_loss: 1.9352 - val_accuracy: 0.8732\n",
      "Epoch 22/25\n",
      "136/136 [==============================] - 0s 3ms/step - loss: 1.9562 - accuracy: 0.8720 - val_loss: 1.9369 - val_accuracy: 0.8728\n",
      "Epoch 23/25\n",
      "136/136 [==============================] - 0s 2ms/step - loss: 1.9327 - accuracy: 0.8739 - val_loss: 1.9522 - val_accuracy: 0.8718\n",
      "Epoch 24/25\n",
      "136/136 [==============================] - 0s 3ms/step - loss: 1.7455 - accuracy: 0.8855 - val_loss: 1.9109 - val_accuracy: 0.8741\n",
      "Epoch 25/25\n",
      "136/136 [==============================] - 0s 3ms/step - loss: 1.8447 - accuracy: 0.8795 - val_loss: 1.8989 - val_accuracy: 0.8764\n"
     ]
    },
    {
     "data": {
      "text/plain": [
       "<keras.src.callbacks.History at 0x7c3f4c4db8e0>"
      ]
     },
     "execution_count": 10,
     "metadata": {},
     "output_type": "execute_result"
    }
   ],
   "source": [
    "model_4 = Sequential([\n",
    "    Flatten(input_shape=(28, 28)),\n",
    "    Dense(1)\n",
    "])\n",
    "\n",
    "print(model_4.summary())\n",
    "\n",
    "model_4.compile(loss='binary_crossentropy', metrics=['accuracy'])\n",
    "model_4.fit(x_train, y_train_binary, epochs=25, batch_size=64, validation_split=0.2)"
   ]
  }
 ],
 "metadata": {
  "colab": {
   "provenance": []
  },
  "kaggle": {
   "accelerator": "none",
   "dataSources": [],
   "dockerImageVersionId": 30646,
   "isGpuEnabled": false,
   "isInternetEnabled": true,
   "language": "python",
   "sourceType": "notebook"
  },
  "kernelspec": {
   "display_name": "Python 3",
   "language": "python",
   "name": "python3"
  },
  "language_info": {
   "codemirror_mode": {
    "name": "ipython",
    "version": 3
   },
   "file_extension": ".py",
   "mimetype": "text/x-python",
   "name": "python",
   "nbconvert_exporter": "python",
   "pygments_lexer": "ipython3",
   "version": "3.10.13"
  },
  "papermill": {
   "default_parameters": {},
   "duration": 67.746998,
   "end_time": "2024-02-14T02:22:53.378521",
   "environment_variables": {},
   "exception": null,
   "input_path": "__notebook__.ipynb",
   "output_path": "__notebook__.ipynb",
   "parameters": {},
   "start_time": "2024-02-14T02:21:45.631523",
   "version": "2.5.0"
  }
 },
 "nbformat": 4,
 "nbformat_minor": 5
}
