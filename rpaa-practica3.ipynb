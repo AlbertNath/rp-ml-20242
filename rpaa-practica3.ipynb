{
 "cells": [
  {
   "cell_type": "code",
   "execution_count": 1,
   "id": "85a8a447",
   "metadata": {
    "_cell_guid": "b1076dfc-b9ad-4769-8c92-a6c4dae69d19",
    "_uuid": "8f2839f25d086af736a60e9eeb907d3b93b6e0e5",
    "execution": {
     "iopub.execute_input": "2024-02-18T03:27:45.777205Z",
     "iopub.status.busy": "2024-02-18T03:27:45.776730Z",
     "iopub.status.idle": "2024-02-18T03:28:05.093047Z",
     "shell.execute_reply": "2024-02-18T03:28:05.091255Z"
    },
    "papermill": {
     "duration": 19.326385,
     "end_time": "2024-02-18T03:28:05.097203",
     "exception": false,
     "start_time": "2024-02-18T03:27:45.770818",
     "status": "completed"
    },
    "tags": []
   },
   "outputs": [
    {
     "name": "stderr",
     "output_type": "stream",
     "text": [
      "2024-02-18 03:27:48.339531: E external/local_xla/xla/stream_executor/cuda/cuda_dnn.cc:9261] Unable to register cuDNN factory: Attempting to register factory for plugin cuDNN when one has already been registered\n",
      "2024-02-18 03:27:48.339712: E external/local_xla/xla/stream_executor/cuda/cuda_fft.cc:607] Unable to register cuFFT factory: Attempting to register factory for plugin cuFFT when one has already been registered\n",
      "2024-02-18 03:27:48.523084: E external/local_xla/xla/stream_executor/cuda/cuda_blas.cc:1515] Unable to register cuBLAS factory: Attempting to register factory for plugin cuBLAS when one has already been registered\n"
     ]
    }
   ],
   "source": [
    "import numpy as np\n",
    "import matplotlib.pyplot as plt\n",
    "from tensorflow.keras.datasets import mnist\n",
    "from tensorflow.keras.models import Sequential\n",
    "from tensorflow.keras.layers import Flatten, Dense\n",
    "from tensorflow.keras.callbacks import EarlyStopping"
   ]
  },
  {
   "cell_type": "markdown",
   "id": "640d3694",
   "metadata": {
    "papermill": {
     "duration": 0.002733,
     "end_time": "2024-02-18T03:28:05.103590",
     "exception": false,
     "start_time": "2024-02-18T03:28:05.100857",
     "status": "completed"
    },
    "tags": []
   },
   "source": [
    "# 1\n",
    "_Preparación de Datos_"
   ]
  },
  {
   "cell_type": "code",
   "execution_count": 2,
   "id": "4036f6f4",
   "metadata": {
    "execution": {
     "iopub.execute_input": "2024-02-18T03:28:05.111887Z",
     "iopub.status.busy": "2024-02-18T03:28:05.110991Z",
     "iopub.status.idle": "2024-02-18T03:28:07.168803Z",
     "shell.execute_reply": "2024-02-18T03:28:07.167132Z"
    },
    "papermill": {
     "duration": 2.065552,
     "end_time": "2024-02-18T03:28:07.172010",
     "exception": false,
     "start_time": "2024-02-18T03:28:05.106458",
     "status": "completed"
    },
    "tags": []
   },
   "outputs": [
    {
     "name": "stdout",
     "output_type": "stream",
     "text": [
      "Downloading data from https://storage.googleapis.com/tensorflow/tf-keras-datasets/mnist.npz\n",
      "11490434/11490434 [==============================] - 1s 0us/step\n"
     ]
    }
   ],
   "source": [
    "(x_train, y_train), (x_test, y_test) = mnist.load_data()\n",
    "\n",
    "x_train = x_train / 255\n",
    "x_test = x_test / 255\n",
    "\n",
    "idx_y_train_5 = np.where(y_train == 5)[0]\n",
    "idx_y_train_n5 = np.where(y_train != 5)[0]\n",
    "idx_y_train_n5 = np.random.choice(idx_y_train_n5, \n",
    "                                  idx_y_train_5.shape[0], \n",
    "                                  replace=False)\n",
    "\n",
    "idx_y_train = np.concatenate([idx_y_train_5, idx_y_train_n5])\n",
    "np.random.shuffle(idx_y_train)\n",
    "x_train = x_train[idx_y_train]\n",
    "y_train = y_train[idx_y_train]\n",
    "\n",
    "idx_y_test_5 = np.where(y_test == 5)[0]\n",
    "idx_y_test_n5 = np.where(y_test != 5)[0]\n",
    "idx_y_test_n5 = np.random.choice(idx_y_test_n5, \n",
    "                                  idx_y_test_5.shape[0], \n",
    "                                  replace=False)\n",
    "idx_y_test = np.concatenate([idx_y_test_5, idx_y_test_n5])\n",
    "np.random.shuffle(idx_y_test)\n",
    "x_test = x_test[idx_y_test]\n",
    "y_test = y_test[idx_y_test]"
   ]
  },
  {
   "cell_type": "markdown",
   "id": "6253bf31",
   "metadata": {
    "papermill": {
     "duration": 0.004987,
     "end_time": "2024-02-18T03:28:07.182201",
     "exception": false,
     "start_time": "2024-02-18T03:28:07.177214",
     "status": "completed"
    },
    "tags": []
   },
   "source": [
    "# 2 \n",
    "_Implementación de una red neuronal multicapa_"
   ]
  },
  {
   "cell_type": "code",
   "execution_count": 3,
   "id": "cedea73d",
   "metadata": {
    "execution": {
     "iopub.execute_input": "2024-02-18T03:28:07.194512Z",
     "iopub.status.busy": "2024-02-18T03:28:07.193960Z",
     "iopub.status.idle": "2024-02-18T03:28:07.350213Z",
     "shell.execute_reply": "2024-02-18T03:28:07.348923Z"
    },
    "papermill": {
     "duration": 0.166198,
     "end_time": "2024-02-18T03:28:07.353502",
     "exception": false,
     "start_time": "2024-02-18T03:28:07.187304",
     "status": "completed"
    },
    "tags": []
   },
   "outputs": [],
   "source": [
    "model = Sequential([\n",
    "    Flatten(input_shape=(28, 28)),\n",
    "    Dense(2),\n",
    "    Dense(1)\n",
    "])"
   ]
  }
 ],
 "metadata": {
  "kaggle": {
   "accelerator": "none",
   "dataSources": [],
   "dockerImageVersionId": 30646,
   "isGpuEnabled": false,
   "isInternetEnabled": true,
   "language": "python",
   "sourceType": "notebook"
  },
  "kernelspec": {
   "display_name": "Python 3",
   "language": "python",
   "name": "python3"
  },
  "language_info": {
   "codemirror_mode": {
    "name": "ipython",
    "version": 3
   },
   "file_extension": ".py",
   "mimetype": "text/x-python",
   "name": "python",
   "nbconvert_exporter": "python",
   "pygments_lexer": "ipython3",
   "version": "3.10.13"
  },
  "papermill": {
   "default_parameters": {},
   "duration": 28.838196,
   "end_time": "2024-02-18T03:28:10.518174",
   "environment_variables": {},
   "exception": null,
   "input_path": "__notebook__.ipynb",
   "output_path": "__notebook__.ipynb",
   "parameters": {},
   "start_time": "2024-02-18T03:27:41.679978",
   "version": "2.5.0"
  }
 },
 "nbformat": 4,
 "nbformat_minor": 5
}
