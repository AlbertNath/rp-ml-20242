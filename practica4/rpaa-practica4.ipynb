{
 "cells": [
  {
   "cell_type": "code",
   "execution_count": 1,
   "id": "3b7bf6f9",
   "metadata": {
    "execution": {
     "iopub.execute_input": "2024-02-29T03:01:32.520770Z",
     "iopub.status.busy": "2024-02-29T03:01:32.520311Z",
     "iopub.status.idle": "2024-02-29T03:01:35.213190Z",
     "shell.execute_reply": "2024-02-29T03:01:35.211616Z"
    },
    "papermill": {
     "duration": 2.702655,
     "end_time": "2024-02-29T03:01:35.215909",
     "exception": false,
     "start_time": "2024-02-29T03:01:32.513254",
     "status": "completed"
    },
    "tags": []
   },
   "outputs": [
    {
     "name": "stdout",
     "output_type": "stream",
     "text": [
      "[nltk_data] Downloading package wordnet to /kaggle/working/...\n",
      "Archive:  /kaggle/working/corpora/wordnet.zip\n",
      "   creating: /kaggle/working/corpora/wordnet/\n",
      "  inflating: /kaggle/working/corpora/wordnet/lexnames  \n",
      "  inflating: /kaggle/working/corpora/wordnet/data.verb  \n",
      "  inflating: /kaggle/working/corpora/wordnet/index.adv  \n",
      "  inflating: /kaggle/working/corpora/wordnet/adv.exc  \n",
      "  inflating: /kaggle/working/corpora/wordnet/index.verb  \n",
      "  inflating: /kaggle/working/corpora/wordnet/cntlist.rev  \n",
      "  inflating: /kaggle/working/corpora/wordnet/data.adj  \n",
      "  inflating: /kaggle/working/corpora/wordnet/index.adj  \n",
      "  inflating: /kaggle/working/corpora/wordnet/LICENSE  \n",
      "  inflating: /kaggle/working/corpora/wordnet/citation.bib  \n",
      "  inflating: /kaggle/working/corpora/wordnet/noun.exc  \n",
      "  inflating: /kaggle/working/corpora/wordnet/verb.exc  \n",
      "  inflating: /kaggle/working/corpora/wordnet/README  \n",
      "  inflating: /kaggle/working/corpora/wordnet/index.sense  \n",
      "  inflating: /kaggle/working/corpora/wordnet/data.noun  \n",
      "  inflating: /kaggle/working/corpora/wordnet/data.adv  \n",
      "  inflating: /kaggle/working/corpora/wordnet/index.noun  \n",
      "  inflating: /kaggle/working/corpora/wordnet/adj.exc  \n"
     ]
    }
   ],
   "source": [
    "# trick from https://stackoverflow.com/questions/73849624/getting-error-while-submitting-notebook-on-kaggle-even-after-importing-nltk-libr\n",
    "import nltk\n",
    "import subprocess\n",
    "\n",
    "# Download and unzip wordnet\n",
    "try:\n",
    "    nltk.data.find('wordnet.zip')\n",
    "except:\n",
    "    nltk.download('wordnet', download_dir='/kaggle/working/')\n",
    "    command = \"unzip /kaggle/working/corpora/wordnet.zip -d /kaggle/working/corpora\"\n",
    "    subprocess.run(command.split())\n",
    "    nltk.data.path.append('/kaggle/working/')"
   ]
  },
  {
   "cell_type": "code",
   "execution_count": 2,
   "id": "9707fa1a",
   "metadata": {
    "_cell_guid": "b1076dfc-b9ad-4769-8c92-a6c4dae69d19",
    "_uuid": "8f2839f25d086af736a60e9eeb907d3b93b6e0e5",
    "execution": {
     "iopub.execute_input": "2024-02-29T03:01:35.227545Z",
     "iopub.status.busy": "2024-02-29T03:01:35.227049Z",
     "iopub.status.idle": "2024-02-29T03:01:36.626185Z",
     "shell.execute_reply": "2024-02-29T03:01:36.625191Z"
    },
    "papermill": {
     "duration": 1.406856,
     "end_time": "2024-02-29T03:01:36.628111",
     "exception": false,
     "start_time": "2024-02-29T03:01:35.221255",
     "status": "completed"
    },
    "tags": []
   },
   "outputs": [
    {
     "name": "stdout",
     "output_type": "stream",
     "text": [
      "[nltk_data] Downloading package punkt to /usr/share/nltk_data...\n",
      "[nltk_data]   Package punkt is already up-to-date!\n"
     ]
    }
   ],
   "source": [
    "import matplotlib.pyplot as plt\n",
    "import pandas as pd\n",
    "import re \n",
    "import seaborn as sns\n",
    "from nltk.corpus import stopwords\n",
    "from nltk.tokenize import word_tokenize\n",
    "from nltk.stem import WordNetLemmatizer\n",
    "from sklearn.metrics import confusion_matrix,classification_report, ConfusionMatrixDisplay\n",
    "from sklearn.model_selection import train_test_split\n",
    "nltk.download('punkt')\n",
    "stopwords_en = set(stopwords.words('english'))"
   ]
  },
  {
   "cell_type": "markdown",
   "id": "76957ad3",
   "metadata": {
    "papermill": {
     "duration": 0.003824,
     "end_time": "2024-02-29T03:01:36.636380",
     "exception": false,
     "start_time": "2024-02-29T03:01:36.632556",
     "status": "completed"
    },
    "tags": []
   },
   "source": [
    "# 0\n",
    "\n",
    "Preprocesamiento. Se retiran las columas `Unnamed: 0` y `label`."
   ]
  },
  {
   "cell_type": "code",
   "execution_count": 3,
   "id": "90902a79",
   "metadata": {
    "execution": {
     "iopub.execute_input": "2024-02-29T03:01:36.646847Z",
     "iopub.status.busy": "2024-02-29T03:01:36.646329Z",
     "iopub.status.idle": "2024-02-29T03:01:36.788488Z",
     "shell.execute_reply": "2024-02-29T03:01:36.786506Z"
    },
    "papermill": {
     "duration": 0.15071,
     "end_time": "2024-02-29T03:01:36.791087",
     "exception": false,
     "start_time": "2024-02-29T03:01:36.640377",
     "status": "completed"
    },
    "tags": []
   },
   "outputs": [],
   "source": [
    "df = pd.read_csv('/kaggle/input/data-p4/spam_ham_dataset.csv')\n",
    "df = df.drop(['Unnamed: 0', 'label'], axis=1)\n",
    "\n",
    "texto  = df[\"text\"]\n",
    "labels = df[\"label_num\"]\n",
    "spam   = df[df[\"label_num\"] == 1][\"text\"]\n",
    "ham    = df[df[\"label_num\"] == 0][\"text\"]"
   ]
  },
  {
   "cell_type": "markdown",
   "id": "b45763b1",
   "metadata": {
    "papermill": {
     "duration": 0.00409,
     "end_time": "2024-02-29T03:01:36.800096",
     "exception": false,
     "start_time": "2024-02-29T03:01:36.796006",
     "status": "completed"
    },
    "tags": []
   },
   "source": [
    "# 1\n",
    "Crear una función de Python llamada _”preprocess text”_ que reciba una\n",
    "cadena de texto, a la cual aplique:\n",
    "\n",
    "1. Tokenización\n",
    "2. Lower case\n",
    "3. Eliminar caracteres especiales y numeros\n",
    "4. Eliminar stop words\n",
    "5. Quitar cadenas vacias\n",
    "6. Aplicar lematización"
   ]
  },
  {
   "cell_type": "code",
   "execution_count": 4,
   "id": "fb93fc81",
   "metadata": {
    "execution": {
     "iopub.execute_input": "2024-02-29T03:01:36.810843Z",
     "iopub.status.busy": "2024-02-29T03:01:36.810434Z",
     "iopub.status.idle": "2024-02-29T03:01:36.816961Z",
     "shell.execute_reply": "2024-02-29T03:01:36.816077Z"
    },
    "papermill": {
     "duration": 0.014598,
     "end_time": "2024-02-29T03:01:36.818918",
     "exception": false,
     "start_time": "2024-02-29T03:01:36.804320",
     "status": "completed"
    },
    "tags": []
   },
   "outputs": [],
   "source": [
    "def preprocess_text(text):\n",
    "    \"\"\"\n",
    "    Método para preprocesamiento. \n",
    "    Aplica las siguientes transformaciones:\n",
    "    1. Tokenización\n",
    "    2. Lower case\n",
    "    3. Eliminar caracteres especiales y numeros\n",
    "    4. Eliminar stop words\n",
    "    5. Quitar cadenas vacias\n",
    "    6. Lematización\n",
    "    \n",
    "    Args:\n",
    "    -----\n",
    "    - text el texto a procesar.\n",
    "    \n",
    "    Returns:\n",
    "    --------\n",
    "    El texto preprocesado.\n",
    "    \"\"\"\n",
    "    wnl    = WordNetLemmatizer()\n",
    "    tokens = word_tokenize(text)\n",
    "    tokens = [word.lower() for word in tokens]\n",
    "    tokens = [re.sub(\"[^A-Za-z]\", \"\", word) for word in tokens]\n",
    "    tokens = list(filter(None, tokens))\n",
    "    tokens = [word for word in tokens if word not in stopwords_en]\n",
    "    tokens = [wnl.lemmatize(word) for word in tokens]\n",
    "    return tokens"
   ]
  },
  {
   "cell_type": "code",
   "execution_count": 5,
   "id": "4255475e",
   "metadata": {
    "execution": {
     "iopub.execute_input": "2024-02-29T03:01:36.830930Z",
     "iopub.status.busy": "2024-02-29T03:01:36.830267Z",
     "iopub.status.idle": "2024-02-29T03:01:38.314411Z",
     "shell.execute_reply": "2024-02-29T03:01:38.313463Z"
    },
    "papermill": {
     "duration": 1.492518,
     "end_time": "2024-02-29T03:01:38.316469",
     "exception": false,
     "start_time": "2024-02-29T03:01:36.823951",
     "status": "completed"
    },
    "tags": []
   },
   "outputs": [
    {
     "name": "stdout",
     "output_type": "stream",
     "text": [
      "Congratulations! You've won a free trip to Hawaii. Click here to claim your prize!\n",
      "Texto preprocesado: ['congratulation', 'free', 'trip', 'hawaii', 'click', 'claim', 'prize']\n"
     ]
    }
   ],
   "source": [
    "email_text = \"Congratulations! You've won a free trip to Hawaii. Click here to claim your prize!\"\n",
    "print(email_text)\n",
    "# Preprocesamiento del texto del correo electrónico\n",
    "preprocessed_email = preprocess_text(email_text)\n",
    "print(\"Texto preprocesado:\", preprocessed_email)"
   ]
  },
  {
   "cell_type": "markdown",
   "id": "eb94f29a",
   "metadata": {
    "papermill": {
     "duration": 0.004469,
     "end_time": "2024-02-29T03:01:38.325825",
     "exception": false,
     "start_time": "2024-02-29T03:01:38.321356",
     "status": "completed"
    },
    "tags": []
   },
   "source": [
    "# 2 \n",
    "Implementación del clasificador spam/ham utilizando bayes ingenuo."
   ]
  },
  {
   "cell_type": "code",
   "execution_count": 6,
   "id": "2c58b285",
   "metadata": {
    "execution": {
     "iopub.execute_input": "2024-02-29T03:01:38.340136Z",
     "iopub.status.busy": "2024-02-29T03:01:38.339414Z",
     "iopub.status.idle": "2024-02-29T03:01:38.347796Z",
     "shell.execute_reply": "2024-02-29T03:01:38.346244Z"
    },
    "papermill": {
     "duration": 0.019554,
     "end_time": "2024-02-29T03:01:38.350800",
     "exception": false,
     "start_time": "2024-02-29T03:01:38.331246",
     "status": "completed"
    },
    "tags": []
   },
   "outputs": [],
   "source": [
    "def process(data):\n",
    "    \"\"\"\n",
    "    Función para procesar los datos aplicando una \n",
    "    transformación. En esta caso en particular, \n",
    "    `preprocess_text` que realiza las transformaciones\n",
    "    descritas en 1.\n",
    "    \n",
    "    Args:\n",
    "    -----\n",
    "    - data el conjunto de datos a procesar. Debe \n",
    "    ser una Serie de pandas.\n",
    "    \n",
    "    Returns:\n",
    "    --------\n",
    "    Una Serie de pandas con el preprocesamiento aplicado.\n",
    "    \"\"\"\n",
    "    return data.transform(preprocess_text).tolist()\n",
    "\n",
    "def build_set(data):\n",
    "    \"\"\"\n",
    "    Función que crea un conjunto de conjuntos para los \n",
    "    correos. Esto nos ayudará a filtrar por estos \n",
    "    palabras posteriormente.\n",
    "    \n",
    "    Args:\n",
    "    -----\n",
    "    - data: los datos a convertir en conjunto (set).\n",
    "    \n",
    "    Return:\n",
    "    -------\n",
    "    El conjunto (set) de datos únicos.\n",
    "    \"\"\"\n",
    "    result_set = set()\n",
    "    for elem in data:\n",
    "        result_set.update(set(elem))\n",
    "    return result_set\n",
    "\n",
    "def build_lang_dict(data, data_proc, set_data):\n",
    "    \"\"\"\n",
    "    Función para obtener la probabilidad de que aparezca una \n",
    "    palabra dado que es esta en el conjunto `data`. Iteramos\n",
    "    sobre las palabras que aparecen en `data` y \n",
    "    posteriormente comparamos con los elementos internos de \n",
    "    data_proc.\n",
    "    \n",
    "    Args:\n",
    "    ----- \n",
    "    - data los datos originales.\n",
    "    - data_proc el conjunto procesado. \n",
    "    - set_data el conjunto (set) de datos.\n",
    "    \n",
    "    Return:\n",
    "    -------\n",
    "    Diccionario con las probabilidades de las \n",
    "    palabras únicas en los datos.\n",
    "    \"\"\"\n",
    "    result_dict = {}\n",
    "    total_elems = len(data)\n",
    "    for elem in set_data:\n",
    "        pInData = 0\n",
    "        for inner_elem in data_proc:\n",
    "            if elem in inner_elem:\n",
    "                pInData += 1\n",
    "            if pInData == 0: \n",
    "                proba = 1 / total_elems\n",
    "            else:\n",
    "                proba = pInData / total_elems\n",
    "            result_dict[elem] = proba\n",
    "    return result_dict"
   ]
  },
  {
   "cell_type": "code",
   "execution_count": 7,
   "id": "96ab025a",
   "metadata": {
    "execution": {
     "iopub.execute_input": "2024-02-29T03:01:38.362804Z",
     "iopub.status.busy": "2024-02-29T03:01:38.362337Z",
     "iopub.status.idle": "2024-02-29T03:05:20.794391Z",
     "shell.execute_reply": "2024-02-29T03:05:20.793262Z"
    },
    "papermill": {
     "duration": 222.440833,
     "end_time": "2024-02-29T03:05:20.796957",
     "exception": false,
     "start_time": "2024-02-29T03:01:38.356124",
     "status": "completed"
    },
    "tags": []
   },
   "outputs": [],
   "source": [
    "# Preprocesado de conjuntos para el modelo.\n",
    "texto_proc = process(texto)\n",
    "spam_proc  = process(spam)\n",
    "ham_proc   = process(ham)\n",
    "\n",
    "# Creación de conjuntos para 'spam' y 'ham'\n",
    "set_spam = build_set(spam_proc)\n",
    "set_ham  = build_set(ham_proc)\n",
    "\n",
    "# Creación de diccionarios de probabilidades\n",
    "dict_spamicity = build_lang_dict(spam, spam_proc, set_spam)\n",
    "dict_ham       = build_lang_dict(ham, ham_proc, set_ham)"
   ]
  },
  {
   "cell_type": "code",
   "execution_count": 8,
   "id": "c311b663",
   "metadata": {
    "execution": {
     "iopub.execute_input": "2024-02-29T03:05:20.807875Z",
     "iopub.status.busy": "2024-02-29T03:05:20.807434Z",
     "iopub.status.idle": "2024-02-29T03:05:20.814203Z",
     "shell.execute_reply": "2024-02-29T03:05:20.812642Z"
    },
    "papermill": {
     "duration": 0.01443,
     "end_time": "2024-02-29T03:05:20.816212",
     "exception": false,
     "start_time": "2024-02-29T03:05:20.801782",
     "status": "completed"
    },
    "tags": []
   },
   "outputs": [
    {
     "name": "stdout",
     "output_type": "stream",
     "text": [
      "0.2898859021465867 0.7101140978534133\n"
     ]
    }
   ],
   "source": [
    "# Probabilidades totales de los conjuntos\n",
    "total_spam = len(spam)\n",
    "total_ham  = len(ham)\n",
    "S = total_spam/(total_spam+total_ham)\n",
    "H = total_ham/(total_spam+total_ham)\n",
    "print(S, H)"
   ]
  },
  {
   "cell_type": "code",
   "execution_count": 9,
   "id": "7e3c369b",
   "metadata": {
    "execution": {
     "iopub.execute_input": "2024-02-29T03:05:20.828520Z",
     "iopub.status.busy": "2024-02-29T03:05:20.828144Z",
     "iopub.status.idle": "2024-02-29T03:05:20.835828Z",
     "shell.execute_reply": "2024-02-29T03:05:20.834034Z"
    },
    "papermill": {
     "duration": 0.016738,
     "end_time": "2024-02-29T03:05:20.838572",
     "exception": false,
     "start_time": "2024-02-29T03:05:20.821834",
     "status": "completed"
    },
    "tags": []
   },
   "outputs": [],
   "source": [
    "#Preparamos test individuales\n",
    "tests  = [\"\"\"Subject: re : indian springs\n",
    "this deal is to book the teco pvr revenue . it is my understanding that teco\n",
    "just sends us a check , i haven ' t received an answer as to whether there is a\n",
    "predermined price associated with this deal or if teco just lets us know what\n",
    "we are giving . i can continue to chase this deal down if you need .\"\"\", \"\"\"Subject: photoshop , windows , office . cheap . main trending\n",
    "abasements darer prudently fortuitous undergone\n",
    "lighthearted charm orinoco taster\n",
    "railroad affluent pornographic cuvier\n",
    "irvin parkhouse blameworthy chlorophyll\n",
    "robed diagrammatic fogarty clears bayda\n",
    "inconveniencing managing represented smartness hashish\n",
    "academies shareholders unload badness\n",
    "danielson pure caffein\n",
    "spaniard chargeable levin\"\"\"]\n",
    "tests = [preprocess_text(txt) for txt in tests]"
   ]
  },
  {
   "cell_type": "code",
   "execution_count": 10,
   "id": "56904bc8",
   "metadata": {
    "execution": {
     "iopub.execute_input": "2024-02-29T03:05:20.850510Z",
     "iopub.status.busy": "2024-02-29T03:05:20.850159Z",
     "iopub.status.idle": "2024-02-29T03:05:20.864851Z",
     "shell.execute_reply": "2024-02-29T03:05:20.863298Z"
    },
    "papermill": {
     "duration": 0.023538,
     "end_time": "2024-02-29T03:05:20.867333",
     "exception": false,
     "start_time": "2024-02-29T03:05:20.843795",
     "status": "completed"
    },
    "tags": []
   },
   "outputs": [
    {
     "data": {
      "text/plain": [
       "[['subject',\n",
       "  'indian',\n",
       "  'spring',\n",
       "  'deal',\n",
       "  'book',\n",
       "  'teco',\n",
       "  'pvr',\n",
       "  'revenue',\n",
       "  'understanding',\n",
       "  'teco',\n",
       "  'sends',\n",
       "  'u',\n",
       "  'check',\n",
       "  'received',\n",
       "  'answer',\n",
       "  'whether',\n",
       "  'predermined',\n",
       "  'price',\n",
       "  'associated',\n",
       "  'deal',\n",
       "  'teco',\n",
       "  'let',\n",
       "  'u',\n",
       "  'know',\n",
       "  'giving',\n",
       "  'continue',\n",
       "  'chase',\n",
       "  'deal',\n",
       "  'need'],\n",
       " ['subject',\n",
       "  'photoshop',\n",
       "  'window',\n",
       "  'office',\n",
       "  'cheap',\n",
       "  'main',\n",
       "  'trending',\n",
       "  'abasement',\n",
       "  'darer',\n",
       "  'prudently',\n",
       "  'fortuitous',\n",
       "  'undergone',\n",
       "  'lighthearted',\n",
       "  'charm',\n",
       "  'orinoco',\n",
       "  'taster',\n",
       "  'railroad',\n",
       "  'affluent',\n",
       "  'pornographic',\n",
       "  'cuvier',\n",
       "  'irvin',\n",
       "  'parkhouse',\n",
       "  'blameworthy',\n",
       "  'chlorophyll',\n",
       "  'robed',\n",
       "  'diagrammatic',\n",
       "  'fogarty',\n",
       "  'clear',\n",
       "  'bayda',\n",
       "  'inconveniencing',\n",
       "  'managing',\n",
       "  'represented',\n",
       "  'smartness',\n",
       "  'hashish',\n",
       "  'academy',\n",
       "  'shareholder',\n",
       "  'unload',\n",
       "  'badness',\n",
       "  'danielson',\n",
       "  'pure',\n",
       "  'caffein',\n",
       "  'spaniard',\n",
       "  'chargeable',\n",
       "  'levin']]"
      ]
     },
     "execution_count": 10,
     "metadata": {},
     "output_type": "execute_result"
    }
   ],
   "source": [
    "# Quitamos de los emails las palabras que no encontramos\n",
    "texto_preprocesado = []\n",
    "for email in tests:\n",
    "  email_nuevo = []\n",
    "  for palabra in email:\n",
    "    if palabra in set_ham:\n",
    "      email_nuevo.append(palabra)\n",
    "    else:\n",
    "      if palabra in set_spam:\n",
    "        email_nuevo.append(palabra)\n",
    "  texto_preprocesado.append(email_nuevo)\n",
    "texto_preprocesado"
   ]
  },
  {
   "cell_type": "code",
   "execution_count": 11,
   "id": "8cfd4059",
   "metadata": {
    "execution": {
     "iopub.execute_input": "2024-02-29T03:05:20.879256Z",
     "iopub.status.busy": "2024-02-29T03:05:20.878507Z",
     "iopub.status.idle": "2024-02-29T03:05:20.890200Z",
     "shell.execute_reply": "2024-02-29T03:05:20.889225Z"
    },
    "papermill": {
     "duration": 0.020631,
     "end_time": "2024-02-29T03:05:20.892903",
     "exception": false,
     "start_time": "2024-02-29T03:05:20.872272",
     "status": "completed"
    },
    "tags": []
   },
   "outputs": [
    {
     "name": "stdout",
     "output_type": "stream",
     "text": [
      "0\n",
      "1\n"
     ]
    }
   ],
   "source": [
    "# Preparamos tests para medir metricas\n",
    "X_, X_test, y_, y_test = train_test_split(texto_proc, labels, test_size=0.33, random_state=42)\n",
    "\n",
    "# Creamos funcion que reciba una lista de probabilidades, multiplique todas y regrese el resultado\n",
    "def mult(probas) :        # multiplicar todas las probas\n",
    "    total_prob = 1\n",
    "    for proba in probas:\n",
    "      total_prob*=proba\n",
    "    # Multiplicar todas las probas\n",
    "    return total_prob\n",
    "# Creamos funcion que aplique Naive_Bayes a un email, con un threshold como parametro\n",
    "def Naive_Bayes(email,threshold):\n",
    "    probs = []\n",
    "    S # prob_spam\n",
    "    H # prob_ham\n",
    "    # Iteramos sobre las palabras del email\n",
    "    for palabra in email:\n",
    "\n",
    "    # Calculamos la proba de PdadoS #*Si es 0 asignamos una probabilidad baja 1/(total_spam+2)\n",
    "      try:\n",
    "        PdadoS = dict_spamicity[palabra]\n",
    "      except:\n",
    "        PdadoS = 1/total_spam\n",
    "    # Calculamos la proba de PdadoH #*Si es 0 asignamos una probabilidad baja 1/(total_spam+2)\n",
    "      try:\n",
    "          PdadoH = dict_ham[palabra]\n",
    "      except:\n",
    "          PdadoH = 1/total_ham\n",
    "    # Aplicamos Bayes para obtener SdadoP\n",
    "      probaB = PdadoS*S/(PdadoS*S+ PdadoH*H)\n",
    "      probs.append(probaB)\n",
    "    # Multiplicamos todas las probas para obtener el total de SdadoEmail\n",
    "    SdadoEmail = mult(probs)\n",
    "    # Aplicamos el Threshold para determinar si es o no es spam\n",
    "    # print(SdadoEmail)\n",
    "    if SdadoEmail >= threshold:\n",
    "      SdadoEmail =1\n",
    "    else:\n",
    "      SdadoEmail = 0\n",
    "    return SdadoEmail\n",
    "for email in texto_preprocesado:\n",
    "  print(Naive_Bayes(email,.00000000000001))"
   ]
  },
  {
   "cell_type": "code",
   "execution_count": 12,
   "id": "498d405d",
   "metadata": {
    "execution": {
     "iopub.execute_input": "2024-02-29T03:05:20.906266Z",
     "iopub.status.busy": "2024-02-29T03:05:20.904615Z",
     "iopub.status.idle": "2024-02-29T03:05:21.056101Z",
     "shell.execute_reply": "2024-02-29T03:05:21.053818Z"
    },
    "papermill": {
     "duration": 0.160394,
     "end_time": "2024-02-29T03:05:21.058725",
     "exception": false,
     "start_time": "2024-02-29T03:05:20.898331",
     "status": "completed"
    },
    "tags": []
   },
   "outputs": [
    {
     "name": "stdout",
     "output_type": "stream",
     "text": [
      "              precision    recall  f1-score   support\n",
      "\n",
      "           0       0.82      0.93      0.87      1246\n",
      "           1       0.69      0.43      0.53       461\n",
      "\n",
      "    accuracy                           0.80      1707\n",
      "   macro avg       0.76      0.68      0.70      1707\n",
      "weighted avg       0.78      0.80      0.78      1707\n",
      "\n"
     ]
    }
   ],
   "source": [
    "y_pred = [Naive_Bayes(email,.00000000000001) for email in X_test]\n",
    "print(classification_report(y_test,y_pred))"
   ]
  },
  {
   "cell_type": "code",
   "execution_count": 13,
   "id": "426bc84d",
   "metadata": {
    "execution": {
     "iopub.execute_input": "2024-02-29T03:05:21.070871Z",
     "iopub.status.busy": "2024-02-29T03:05:21.069790Z",
     "iopub.status.idle": "2024-02-29T03:05:21.311663Z",
     "shell.execute_reply": "2024-02-29T03:05:21.310251Z"
    },
    "papermill": {
     "duration": 0.249855,
     "end_time": "2024-02-29T03:05:21.313804",
     "exception": false,
     "start_time": "2024-02-29T03:05:21.063949",
     "status": "completed"
    },
    "tags": []
   },
   "outputs": [
    {
     "data": {
      "image/png": "[encoded data removed]",
      "text/plain": [
       "<Figure size 640x480 with 2 Axes>"
      ]
     },
     "metadata": {},
     "output_type": "display_data"
    }
   ],
   "source": [
    "sns.set_style('ticks')\n",
    "ConfusionMatrixDisplay(confusion_matrix(y_test,y_pred)).plot()\n",
    "plt.title(\"Confusion Matrix\")\n",
    "plt.show()"
   ]
  },
  {
   "cell_type": "markdown",
   "id": "2d91b70d",
   "metadata": {
    "papermill": {
     "duration": 0.004987,
     "end_time": "2024-02-29T03:05:21.324492",
     "exception": false,
     "start_time": "2024-02-29T03:05:21.319505",
     "status": "completed"
    },
    "tags": []
   },
   "source": [
    "# Comparación\n",
    "\n",
    "El modelo de este notebook respecto al original (_2024_02_22_RPAA_Naive_Bayes_) presenta, con las adiciones sobre el preprocesamiento de los \n",
    "correos mediante la función modificada `preprocess_text`, una mejora prediciendo verdaderos positivos, pero en cambio un error más grande prediciendo \n",
    "verdaderos negativos. Esto lo podemos notar por la métrica de precisión sobre ambas clases: para la `clase 0` esta aumenta considerablemente, mientras que para la `clase 1`, decrementa; sin embargo, observamos un incremento en `recall` para esta clase, lo que implica que para la `clase 0`. Para `f1-score` vemos un incremento para ambas clases. Finalmente, para `accuracy` vemos un ligero incremento respecto a la versión original. En la siguiente tabla vemos resumida esta comparativa por métricas:\n",
    "\n",
    "|         Clase             | precision | recall | f1-score | support |\n",
    "|---------------------------|-----------|--------|----------|---------|\n",
    "| Clase 0 (original)        | 0.76      | 0.98   | 0.86     | 1246    |\n",
    "| Clase 1 (original)        | 0.75      | 0.18   | 0.29     | 461     |\n",
    "| Clase 0 (**modificado**)  | 0.82      | 0.93   | 0.87     | 1246    |\n",
    "| Clase 1 (**modificado**)  | 0.69      | 0.43   | 0.53     | 461     |\n"
   ]
  }
 ],
 "metadata": {
  "kaggle": {
   "accelerator": "none",
   "dataSources": [
    {
     "datasetId": 4495101,
     "sourceId": 7700658,
     "sourceType": "datasetVersion"
    }
   ],
   "dockerImageVersionId": 30646,
   "isGpuEnabled": false,
   "isInternetEnabled": true,
   "language": "python",
   "sourceType": "notebook"
  },
  "kernelspec": {
   "display_name": "Python 3",
   "language": "python",
   "name": "python3"
  },
  "language_info": {
   "codemirror_mode": {
    "name": "ipython",
    "version": 3
   },
   "file_extension": ".py",
   "mimetype": "text/x-python",
   "name": "python",
   "nbconvert_exporter": "python",
   "pygments_lexer": "ipython3",
   "version": "3.10.13"
  },
  "papermill": {
   "default_parameters": {},
   "duration": 232.519928,
   "end_time": "2024-02-29T03:05:22.355729",
   "environment_variables": {},
   "exception": null,
   "input_path": "__notebook__.ipynb",
   "output_path": "__notebook__.ipynb",
   "parameters": {},
   "start_time": "2024-02-29T03:01:29.835801",
   "version": "2.5.0"
  }
 },
 "nbformat": 4,
 "nbformat_minor": 5
}
